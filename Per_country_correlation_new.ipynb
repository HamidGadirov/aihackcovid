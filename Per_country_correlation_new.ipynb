{
 "cells": [
  {
   "cell_type": "markdown",
   "metadata": {},
   "source": [
    "# Checking correlation between variables per country"
   ]
  },
  {
   "cell_type": "markdown",
   "metadata": {},
   "source": [
    "One of the goals of Team 6 was to show the correlation between different variables in the OWID dataset. By exploring the correlation we tried to find interesting patterns"
   ]
  },
  {
   "cell_type": "markdown",
   "metadata": {},
   "source": [
    "## Correlation Heatmaps"
   ]
  },
  {
   "cell_type": "markdown",
   "metadata": {},
   "source": [
    "We have selected five countries that in our opinion have the most varieties relative to each other. The five countries we chose are:\n",
    "- The Netherlands (NLD)\n",
    "- India (IND)\n",
    "- The United States of America (USA)\n",
    "- Brazil (BRA)\n",
    "- Niger (NER)\n",
    "\n",
    "In this analysis we looked at the new cases, new deaths, total cases and total deaths. We looked for correlations between one of these variables relative to four other variables. These four variables we picked are:\n",
    "- New vaccinations\n",
    "- ICU patients\n",
    "- Hospital patients\n",
    "- Stringency index"
   ]
  },
  {
   "cell_type": "code",
   "execution_count": 2,
   "metadata": {},
   "outputs": [],
   "source": [
    "import pandas as pd\n",
    "import matplotlib.pyplot as plt\n",
    "import matplotlib.ticker as ticker\n",
    "import seaborn as sb\n",
    "\n",
    "pd.set_option('display.max_columns', None)\n",
    "\n",
    "data = pd.read_csv(r\"owid-covid-data.csv\")\n",
    "data = data.sort_values('date', ascending=True)\n",
    "data['date'] = pd.to_datetime(data['date'], format = '%Y-%m-%d')\n",
    "data_NLD = data[data.iso_code=='NLD']\n",
    "data_IND = data[data.iso_code=='IND']\n",
    "data_USA = data[data.iso_code=='USA']\n",
    "data_BRA = data[data.iso_code=='BRA']\n",
    "data_NER = data[data.iso_code=='NER']"
   ]
  },
  {
   "cell_type": "markdown",
   "metadata": {},
   "source": [
    "## New cases and total cases in correlation to new vaccinations in the Netherlands"
   ]
  },
  {
   "cell_type": "code",
   "execution_count": 14,
   "metadata": {},
   "outputs": [
    {
     "data": {
      "text/html": [
       "<style  type=\"text/css\" >\n",
       "#T_983fe178_d694_11eb_8790_3c7c3f5d70b1row0_col0,#T_983fe178_d694_11eb_8790_3c7c3f5d70b1row1_col1{\n",
       "            background-color:  #b40426;\n",
       "            color:  #f1f1f1;\n",
       "        }#T_983fe178_d694_11eb_8790_3c7c3f5d70b1row0_col1,#T_983fe178_d694_11eb_8790_3c7c3f5d70b1row1_col0{\n",
       "            background-color:  #9dbdff;\n",
       "            color:  #000000;\n",
       "        }</style><table id=\"T_983fe178_d694_11eb_8790_3c7c3f5d70b1\" ><thead>    <tr>        <th class=\"blank level0\" ></th>        <th class=\"col_heading level0 col0\" >new_cases</th>        <th class=\"col_heading level0 col1\" >new_vaccinations_smoothed</th>    </tr></thead><tbody>\n",
       "                <tr>\n",
       "                        <th id=\"T_983fe178_d694_11eb_8790_3c7c3f5d70b1level0_row0\" class=\"row_heading level0 row0\" >new_cases</th>\n",
       "                        <td id=\"T_983fe178_d694_11eb_8790_3c7c3f5d70b1row0_col0\" class=\"data row0 col0\" >1.000000</td>\n",
       "                        <td id=\"T_983fe178_d694_11eb_8790_3c7c3f5d70b1row0_col1\" class=\"data row0 col1\" >-0.410749</td>\n",
       "            </tr>\n",
       "            <tr>\n",
       "                        <th id=\"T_983fe178_d694_11eb_8790_3c7c3f5d70b1level0_row1\" class=\"row_heading level0 row1\" >new_vaccinations_smoothed</th>\n",
       "                        <td id=\"T_983fe178_d694_11eb_8790_3c7c3f5d70b1row1_col0\" class=\"data row1 col0\" >-0.410749</td>\n",
       "                        <td id=\"T_983fe178_d694_11eb_8790_3c7c3f5d70b1row1_col1\" class=\"data row1 col1\" >1.000000</td>\n",
       "            </tr>\n",
       "    </tbody></table>"
      ],
      "text/plain": [
       "<pandas.io.formats.style.Styler at 0x19061e8e790>"
      ]
     },
     "execution_count": 14,
     "metadata": {},
     "output_type": "execute_result"
    }
   ],
   "source": [
    "dfn = data_NLD[['new_cases', 'new_vaccinations_smoothed']]\n",
    "corr = dfn.corr()\n",
    "corr.style.background_gradient(cmap='coolwarm', vmin=-1, vmax=1)"
   ]
  },
  {
   "cell_type": "code",
   "execution_count": 15,
   "metadata": {},
   "outputs": [
    {
     "data": {
      "text/html": [
       "<style  type=\"text/css\" >\n",
       "#T_990388ef_d694_11eb_ae17_3c7c3f5d70b1row0_col0,#T_990388ef_d694_11eb_ae17_3c7c3f5d70b1row1_col1{\n",
       "            background-color:  #b40426;\n",
       "            color:  #f1f1f1;\n",
       "        }#T_990388ef_d694_11eb_ae17_3c7c3f5d70b1row0_col1,#T_990388ef_d694_11eb_ae17_3c7c3f5d70b1row1_col0{\n",
       "            background-color:  #c0282f;\n",
       "            color:  #f1f1f1;\n",
       "        }</style><table id=\"T_990388ef_d694_11eb_ae17_3c7c3f5d70b1\" ><thead>    <tr>        <th class=\"blank level0\" ></th>        <th class=\"col_heading level0 col0\" >total_cases</th>        <th class=\"col_heading level0 col1\" >new_vaccinations_smoothed</th>    </tr></thead><tbody>\n",
       "                <tr>\n",
       "                        <th id=\"T_990388ef_d694_11eb_ae17_3c7c3f5d70b1level0_row0\" class=\"row_heading level0 row0\" >total_cases</th>\n",
       "                        <td id=\"T_990388ef_d694_11eb_ae17_3c7c3f5d70b1row0_col0\" class=\"data row0 col0\" >1.000000</td>\n",
       "                        <td id=\"T_990388ef_d694_11eb_ae17_3c7c3f5d70b1row0_col1\" class=\"data row0 col1\" >0.933169</td>\n",
       "            </tr>\n",
       "            <tr>\n",
       "                        <th id=\"T_990388ef_d694_11eb_ae17_3c7c3f5d70b1level0_row1\" class=\"row_heading level0 row1\" >new_vaccinations_smoothed</th>\n",
       "                        <td id=\"T_990388ef_d694_11eb_ae17_3c7c3f5d70b1row1_col0\" class=\"data row1 col0\" >0.933169</td>\n",
       "                        <td id=\"T_990388ef_d694_11eb_ae17_3c7c3f5d70b1row1_col1\" class=\"data row1 col1\" >1.000000</td>\n",
       "            </tr>\n",
       "    </tbody></table>"
      ],
      "text/plain": [
       "<pandas.io.formats.style.Styler at 0x19061df94c0>"
      ]
     },
     "execution_count": 15,
     "metadata": {},
     "output_type": "execute_result"
    }
   ],
   "source": [
    "dft = data_NLD[['total_cases', 'new_vaccinations_smoothed']]\n",
    "corr = dft.corr()\n",
    "corr.style.background_gradient(cmap='coolwarm', vmin=-1, vmax=1)"
   ]
  },
  {
   "cell_type": "markdown",
   "metadata": {},
   "source": [
    "## New cases and total cases in correlation to new vaccinations in India"
   ]
  },
  {
   "cell_type": "code",
   "execution_count": 6,
   "metadata": {
    "scrolled": true
   },
   "outputs": [
    {
     "data": {
      "text/html": [
       "<style  type=\"text/css\" >\n",
       "#T_253426fd_d694_11eb_9d59_3c7c3f5d70b1row0_col0,#T_253426fd_d694_11eb_9d59_3c7c3f5d70b1row1_col1{\n",
       "            background-color:  #b40426;\n",
       "            color:  #f1f1f1;\n",
       "        }#T_253426fd_d694_11eb_9d59_3c7c3f5d70b1row0_col1,#T_253426fd_d694_11eb_9d59_3c7c3f5d70b1row1_col0{\n",
       "            background-color:  #f7aa8c;\n",
       "            color:  #000000;\n",
       "        }</style><table id=\"T_253426fd_d694_11eb_9d59_3c7c3f5d70b1\" ><thead>    <tr>        <th class=\"blank level0\" ></th>        <th class=\"col_heading level0 col0\" >new_cases</th>        <th class=\"col_heading level0 col1\" >new_vaccinations_smoothed</th>    </tr></thead><tbody>\n",
       "                <tr>\n",
       "                        <th id=\"T_253426fd_d694_11eb_9d59_3c7c3f5d70b1level0_row0\" class=\"row_heading level0 row0\" >new_cases</th>\n",
       "                        <td id=\"T_253426fd_d694_11eb_9d59_3c7c3f5d70b1row0_col0\" class=\"data row0 col0\" >1.000000</td>\n",
       "                        <td id=\"T_253426fd_d694_11eb_9d59_3c7c3f5d70b1row0_col1\" class=\"data row0 col1\" >0.411153</td>\n",
       "            </tr>\n",
       "            <tr>\n",
       "                        <th id=\"T_253426fd_d694_11eb_9d59_3c7c3f5d70b1level0_row1\" class=\"row_heading level0 row1\" >new_vaccinations_smoothed</th>\n",
       "                        <td id=\"T_253426fd_d694_11eb_9d59_3c7c3f5d70b1row1_col0\" class=\"data row1 col0\" >0.411153</td>\n",
       "                        <td id=\"T_253426fd_d694_11eb_9d59_3c7c3f5d70b1row1_col1\" class=\"data row1 col1\" >1.000000</td>\n",
       "            </tr>\n",
       "    </tbody></table>"
      ],
      "text/plain": [
       "<pandas.io.formats.style.Styler at 0x19059fdd970>"
      ]
     },
     "execution_count": 6,
     "metadata": {},
     "output_type": "execute_result"
    }
   ],
   "source": [
    "dfn = data_IND[['new_cases', 'new_vaccinations_smoothed']]\n",
    "corr = dfn.corr()\n",
    "corr.style.background_gradient(cmap='coolwarm', vmin=-1, vmax=1)"
   ]
  },
  {
   "cell_type": "code",
   "execution_count": 7,
   "metadata": {},
   "outputs": [
    {
     "data": {
      "text/html": [
       "<style  type=\"text/css\" >\n",
       "#T_2d663e0b_d694_11eb_aa18_3c7c3f5d70b1row0_col0,#T_2d663e0b_d694_11eb_aa18_3c7c3f5d70b1row1_col1{\n",
       "            background-color:  #b40426;\n",
       "            color:  #f1f1f1;\n",
       "        }#T_2d663e0b_d694_11eb_aa18_3c7c3f5d70b1row0_col1,#T_2d663e0b_d694_11eb_aa18_3c7c3f5d70b1row1_col0{\n",
       "            background-color:  #ee8468;\n",
       "            color:  #000000;\n",
       "        }</style><table id=\"T_2d663e0b_d694_11eb_aa18_3c7c3f5d70b1\" ><thead>    <tr>        <th class=\"blank level0\" ></th>        <th class=\"col_heading level0 col0\" >total_cases</th>        <th class=\"col_heading level0 col1\" >new_vaccinations_smoothed</th>    </tr></thead><tbody>\n",
       "                <tr>\n",
       "                        <th id=\"T_2d663e0b_d694_11eb_aa18_3c7c3f5d70b1level0_row0\" class=\"row_heading level0 row0\" >total_cases</th>\n",
       "                        <td id=\"T_2d663e0b_d694_11eb_aa18_3c7c3f5d70b1row0_col0\" class=\"data row0 col0\" >1.000000</td>\n",
       "                        <td id=\"T_2d663e0b_d694_11eb_aa18_3c7c3f5d70b1row0_col1\" class=\"data row0 col1\" >0.600620</td>\n",
       "            </tr>\n",
       "            <tr>\n",
       "                        <th id=\"T_2d663e0b_d694_11eb_aa18_3c7c3f5d70b1level0_row1\" class=\"row_heading level0 row1\" >new_vaccinations_smoothed</th>\n",
       "                        <td id=\"T_2d663e0b_d694_11eb_aa18_3c7c3f5d70b1row1_col0\" class=\"data row1 col0\" >0.600620</td>\n",
       "                        <td id=\"T_2d663e0b_d694_11eb_aa18_3c7c3f5d70b1row1_col1\" class=\"data row1 col1\" >1.000000</td>\n",
       "            </tr>\n",
       "    </tbody></table>"
      ],
      "text/plain": [
       "<pandas.io.formats.style.Styler at 0x19061de9400>"
      ]
     },
     "execution_count": 7,
     "metadata": {},
     "output_type": "execute_result"
    }
   ],
   "source": [
    "dft = data_IND[['total_cases', 'new_vaccinations_smoothed']]\n",
    "corr = dft.corr()\n",
    "corr.style.background_gradient(cmap='coolwarm', vmin=-1, vmax=1)"
   ]
  },
  {
   "cell_type": "markdown",
   "metadata": {},
   "source": [
    "## New cases and total cases in correlation to new vaccinations in the USA"
   ]
  },
  {
   "cell_type": "code",
   "execution_count": 8,
   "metadata": {},
   "outputs": [
    {
     "data": {
      "text/html": [
       "<style  type=\"text/css\" >\n",
       "#T_393fffba_d694_11eb_b977_3c7c3f5d70b1row0_col0,#T_393fffba_d694_11eb_b977_3c7c3f5d70b1row1_col1{\n",
       "            background-color:  #b40426;\n",
       "            color:  #f1f1f1;\n",
       "        }#T_393fffba_d694_11eb_b977_3c7c3f5d70b1row0_col1,#T_393fffba_d694_11eb_b977_3c7c3f5d70b1row1_col0{\n",
       "            background-color:  #82a6fb;\n",
       "            color:  #000000;\n",
       "        }</style><table id=\"T_393fffba_d694_11eb_b977_3c7c3f5d70b1\" ><thead>    <tr>        <th class=\"blank level0\" ></th>        <th class=\"col_heading level0 col0\" >new_cases</th>        <th class=\"col_heading level0 col1\" >new_vaccinations_smoothed</th>    </tr></thead><tbody>\n",
       "                <tr>\n",
       "                        <th id=\"T_393fffba_d694_11eb_b977_3c7c3f5d70b1level0_row0\" class=\"row_heading level0 row0\" >new_cases</th>\n",
       "                        <td id=\"T_393fffba_d694_11eb_b977_3c7c3f5d70b1row0_col0\" class=\"data row0 col0\" >1.000000</td>\n",
       "                        <td id=\"T_393fffba_d694_11eb_b977_3c7c3f5d70b1row0_col1\" class=\"data row0 col1\" >-0.555605</td>\n",
       "            </tr>\n",
       "            <tr>\n",
       "                        <th id=\"T_393fffba_d694_11eb_b977_3c7c3f5d70b1level0_row1\" class=\"row_heading level0 row1\" >new_vaccinations_smoothed</th>\n",
       "                        <td id=\"T_393fffba_d694_11eb_b977_3c7c3f5d70b1row1_col0\" class=\"data row1 col0\" >-0.555605</td>\n",
       "                        <td id=\"T_393fffba_d694_11eb_b977_3c7c3f5d70b1row1_col1\" class=\"data row1 col1\" >1.000000</td>\n",
       "            </tr>\n",
       "    </tbody></table>"
      ],
      "text/plain": [
       "<pandas.io.formats.style.Styler at 0x19061e07b80>"
      ]
     },
     "execution_count": 8,
     "metadata": {},
     "output_type": "execute_result"
    }
   ],
   "source": [
    "dfn = data_USA[['new_cases', 'new_vaccinations_smoothed']]\n",
    "corr = dfn.corr()\n",
    "corr.style.background_gradient(cmap='coolwarm', vmin=-1, vmax=1)"
   ]
  },
  {
   "cell_type": "code",
   "execution_count": 9,
   "metadata": {},
   "outputs": [
    {
     "data": {
      "text/html": [
       "<style  type=\"text/css\" >\n",
       "#T_41c55ac3_d694_11eb_be8a_3c7c3f5d70b1row0_col0,#T_41c55ac3_d694_11eb_be8a_3c7c3f5d70b1row1_col1{\n",
       "            background-color:  #b40426;\n",
       "            color:  #f1f1f1;\n",
       "        }#T_41c55ac3_d694_11eb_be8a_3c7c3f5d70b1row0_col1,#T_41c55ac3_d694_11eb_be8a_3c7c3f5d70b1row1_col0{\n",
       "            background-color:  #eb7d62;\n",
       "            color:  #000000;\n",
       "        }</style><table id=\"T_41c55ac3_d694_11eb_be8a_3c7c3f5d70b1\" ><thead>    <tr>        <th class=\"blank level0\" ></th>        <th class=\"col_heading level0 col0\" >total_cases</th>        <th class=\"col_heading level0 col1\" >new_vaccinations_smoothed</th>    </tr></thead><tbody>\n",
       "                <tr>\n",
       "                        <th id=\"T_41c55ac3_d694_11eb_be8a_3c7c3f5d70b1level0_row0\" class=\"row_heading level0 row0\" >total_cases</th>\n",
       "                        <td id=\"T_41c55ac3_d694_11eb_be8a_3c7c3f5d70b1row0_col0\" class=\"data row0 col0\" >1.000000</td>\n",
       "                        <td id=\"T_41c55ac3_d694_11eb_be8a_3c7c3f5d70b1row0_col1\" class=\"data row0 col1\" >0.625388</td>\n",
       "            </tr>\n",
       "            <tr>\n",
       "                        <th id=\"T_41c55ac3_d694_11eb_be8a_3c7c3f5d70b1level0_row1\" class=\"row_heading level0 row1\" >new_vaccinations_smoothed</th>\n",
       "                        <td id=\"T_41c55ac3_d694_11eb_be8a_3c7c3f5d70b1row1_col0\" class=\"data row1 col0\" >0.625388</td>\n",
       "                        <td id=\"T_41c55ac3_d694_11eb_be8a_3c7c3f5d70b1row1_col1\" class=\"data row1 col1\" >1.000000</td>\n",
       "            </tr>\n",
       "    </tbody></table>"
      ],
      "text/plain": [
       "<pandas.io.formats.style.Styler at 0x19061e07400>"
      ]
     },
     "execution_count": 9,
     "metadata": {},
     "output_type": "execute_result"
    }
   ],
   "source": [
    "dft = data_USA[['total_cases', 'new_vaccinations_smoothed']]\n",
    "corr = dft.corr()\n",
    "corr.style.background_gradient(cmap='coolwarm', vmin=-1, vmax=1)"
   ]
  },
  {
   "cell_type": "markdown",
   "metadata": {},
   "source": [
    "## New cases and total cases in correlation to new vaccinations in Brazil"
   ]
  },
  {
   "cell_type": "code",
   "execution_count": 10,
   "metadata": {
    "scrolled": true
   },
   "outputs": [
    {
     "data": {
      "text/html": [
       "<style  type=\"text/css\" >\n",
       "#T_4bfb0dcc_d694_11eb_af28_3c7c3f5d70b1row0_col0,#T_4bfb0dcc_d694_11eb_af28_3c7c3f5d70b1row1_col1{\n",
       "            background-color:  #b40426;\n",
       "            color:  #f1f1f1;\n",
       "        }#T_4bfb0dcc_d694_11eb_af28_3c7c3f5d70b1row0_col1,#T_4bfb0dcc_d694_11eb_af28_3c7c3f5d70b1row1_col0{\n",
       "            background-color:  #f4c6af;\n",
       "            color:  #000000;\n",
       "        }</style><table id=\"T_4bfb0dcc_d694_11eb_af28_3c7c3f5d70b1\" ><thead>    <tr>        <th class=\"blank level0\" ></th>        <th class=\"col_heading level0 col0\" >new_cases</th>        <th class=\"col_heading level0 col1\" >new_vaccinations_smoothed</th>    </tr></thead><tbody>\n",
       "                <tr>\n",
       "                        <th id=\"T_4bfb0dcc_d694_11eb_af28_3c7c3f5d70b1level0_row0\" class=\"row_heading level0 row0\" >new_cases</th>\n",
       "                        <td id=\"T_4bfb0dcc_d694_11eb_af28_3c7c3f5d70b1row0_col0\" class=\"data row0 col0\" >1.000000</td>\n",
       "                        <td id=\"T_4bfb0dcc_d694_11eb_af28_3c7c3f5d70b1row0_col1\" class=\"data row0 col1\" >0.235925</td>\n",
       "            </tr>\n",
       "            <tr>\n",
       "                        <th id=\"T_4bfb0dcc_d694_11eb_af28_3c7c3f5d70b1level0_row1\" class=\"row_heading level0 row1\" >new_vaccinations_smoothed</th>\n",
       "                        <td id=\"T_4bfb0dcc_d694_11eb_af28_3c7c3f5d70b1row1_col0\" class=\"data row1 col0\" >0.235925</td>\n",
       "                        <td id=\"T_4bfb0dcc_d694_11eb_af28_3c7c3f5d70b1row1_col1\" class=\"data row1 col1\" >1.000000</td>\n",
       "            </tr>\n",
       "    </tbody></table>"
      ],
      "text/plain": [
       "<pandas.io.formats.style.Styler at 0x19061e04460>"
      ]
     },
     "execution_count": 10,
     "metadata": {},
     "output_type": "execute_result"
    }
   ],
   "source": [
    "dfn = data_BRA[['new_cases', 'new_vaccinations_smoothed']]\n",
    "corr = dfn.corr()\n",
    "corr.style.background_gradient(cmap='coolwarm', vmin=-1, vmax=1)"
   ]
  },
  {
   "cell_type": "code",
   "execution_count": 11,
   "metadata": {},
   "outputs": [
    {
     "data": {
      "text/html": [
       "<style  type=\"text/css\" >\n",
       "#T_547608ee_d694_11eb_b7c1_3c7c3f5d70b1row0_col0,#T_547608ee_d694_11eb_b7c1_3c7c3f5d70b1row1_col1{\n",
       "            background-color:  #b40426;\n",
       "            color:  #f1f1f1;\n",
       "        }#T_547608ee_d694_11eb_b7c1_3c7c3f5d70b1row0_col1,#T_547608ee_d694_11eb_b7c1_3c7c3f5d70b1row1_col0{\n",
       "            background-color:  #cb3e38;\n",
       "            color:  #f1f1f1;\n",
       "        }</style><table id=\"T_547608ee_d694_11eb_b7c1_3c7c3f5d70b1\" ><thead>    <tr>        <th class=\"blank level0\" ></th>        <th class=\"col_heading level0 col0\" >total_cases</th>        <th class=\"col_heading level0 col1\" >new_vaccinations_smoothed</th>    </tr></thead><tbody>\n",
       "                <tr>\n",
       "                        <th id=\"T_547608ee_d694_11eb_b7c1_3c7c3f5d70b1level0_row0\" class=\"row_heading level0 row0\" >total_cases</th>\n",
       "                        <td id=\"T_547608ee_d694_11eb_b7c1_3c7c3f5d70b1row0_col0\" class=\"data row0 col0\" >1.000000</td>\n",
       "                        <td id=\"T_547608ee_d694_11eb_b7c1_3c7c3f5d70b1row0_col1\" class=\"data row0 col1\" >0.873887</td>\n",
       "            </tr>\n",
       "            <tr>\n",
       "                        <th id=\"T_547608ee_d694_11eb_b7c1_3c7c3f5d70b1level0_row1\" class=\"row_heading level0 row1\" >new_vaccinations_smoothed</th>\n",
       "                        <td id=\"T_547608ee_d694_11eb_b7c1_3c7c3f5d70b1row1_col0\" class=\"data row1 col0\" >0.873887</td>\n",
       "                        <td id=\"T_547608ee_d694_11eb_b7c1_3c7c3f5d70b1row1_col1\" class=\"data row1 col1\" >1.000000</td>\n",
       "            </tr>\n",
       "    </tbody></table>"
      ],
      "text/plain": [
       "<pandas.io.formats.style.Styler at 0x19061e07310>"
      ]
     },
     "execution_count": 11,
     "metadata": {},
     "output_type": "execute_result"
    }
   ],
   "source": [
    "dft = data_BRA[['total_cases', 'new_vaccinations_smoothed']]\n",
    "corr = dft.corr()\n",
    "corr.style.background_gradient(cmap='coolwarm', vmin=-1, vmax=1)"
   ]
  },
  {
   "cell_type": "markdown",
   "metadata": {},
   "source": [
    "## New cases and total cases in correlation to new vaccinations in Niger"
   ]
  },
  {
   "cell_type": "code",
   "execution_count": 12,
   "metadata": {},
   "outputs": [
    {
     "data": {
      "text/html": [
       "<style  type=\"text/css\" >\n",
       "#T_5db098d5_d694_11eb_bca3_3c7c3f5d70b1row0_col0,#T_5db098d5_d694_11eb_bca3_3c7c3f5d70b1row1_col1{\n",
       "            background-color:  #b40426;\n",
       "            color:  #f1f1f1;\n",
       "        }#T_5db098d5_d694_11eb_bca3_3c7c3f5d70b1row0_col1,#T_5db098d5_d694_11eb_bca3_3c7c3f5d70b1row1_col0{\n",
       "            background-color:  #dfdbd9;\n",
       "            color:  #000000;\n",
       "        }</style><table id=\"T_5db098d5_d694_11eb_bca3_3c7c3f5d70b1\" ><thead>    <tr>        <th class=\"blank level0\" ></th>        <th class=\"col_heading level0 col0\" >new_cases</th>        <th class=\"col_heading level0 col1\" >new_vaccinations_smoothed</th>    </tr></thead><tbody>\n",
       "                <tr>\n",
       "                        <th id=\"T_5db098d5_d694_11eb_bca3_3c7c3f5d70b1level0_row0\" class=\"row_heading level0 row0\" >new_cases</th>\n",
       "                        <td id=\"T_5db098d5_d694_11eb_bca3_3c7c3f5d70b1row0_col0\" class=\"data row0 col0\" >1.000000</td>\n",
       "                        <td id=\"T_5db098d5_d694_11eb_bca3_3c7c3f5d70b1row0_col1\" class=\"data row0 col1\" >0.016462</td>\n",
       "            </tr>\n",
       "            <tr>\n",
       "                        <th id=\"T_5db098d5_d694_11eb_bca3_3c7c3f5d70b1level0_row1\" class=\"row_heading level0 row1\" >new_vaccinations_smoothed</th>\n",
       "                        <td id=\"T_5db098d5_d694_11eb_bca3_3c7c3f5d70b1row1_col0\" class=\"data row1 col0\" >0.016462</td>\n",
       "                        <td id=\"T_5db098d5_d694_11eb_bca3_3c7c3f5d70b1row1_col1\" class=\"data row1 col1\" >1.000000</td>\n",
       "            </tr>\n",
       "    </tbody></table>"
      ],
      "text/plain": [
       "<pandas.io.formats.style.Styler at 0x19061de9b80>"
      ]
     },
     "execution_count": 12,
     "metadata": {},
     "output_type": "execute_result"
    }
   ],
   "source": [
    "dfn = data_NER[['new_cases', 'new_vaccinations_smoothed']]\n",
    "corr = dfn.corr()\n",
    "corr.style.background_gradient(cmap='coolwarm', vmin=-1, vmax=1)"
   ]
  },
  {
   "cell_type": "code",
   "execution_count": 13,
   "metadata": {
    "scrolled": true
   },
   "outputs": [
    {
     "data": {
      "text/html": [
       "<style  type=\"text/css\" >\n",
       "#T_6b67cb21_d694_11eb_a43f_3c7c3f5d70b1row0_col0,#T_6b67cb21_d694_11eb_a43f_3c7c3f5d70b1row1_col1{\n",
       "            background-color:  #b40426;\n",
       "            color:  #f1f1f1;\n",
       "        }#T_6b67cb21_d694_11eb_a43f_3c7c3f5d70b1row0_col1,#T_6b67cb21_d694_11eb_a43f_3c7c3f5d70b1row1_col0{\n",
       "            background-color:  #ef886b;\n",
       "            color:  #000000;\n",
       "        }</style><table id=\"T_6b67cb21_d694_11eb_a43f_3c7c3f5d70b1\" ><thead>    <tr>        <th class=\"blank level0\" ></th>        <th class=\"col_heading level0 col0\" >total_cases</th>        <th class=\"col_heading level0 col1\" >new_vaccinations_smoothed</th>    </tr></thead><tbody>\n",
       "                <tr>\n",
       "                        <th id=\"T_6b67cb21_d694_11eb_a43f_3c7c3f5d70b1level0_row0\" class=\"row_heading level0 row0\" >total_cases</th>\n",
       "                        <td id=\"T_6b67cb21_d694_11eb_a43f_3c7c3f5d70b1row0_col0\" class=\"data row0 col0\" >1.000000</td>\n",
       "                        <td id=\"T_6b67cb21_d694_11eb_a43f_3c7c3f5d70b1row0_col1\" class=\"data row0 col1\" >0.580976</td>\n",
       "            </tr>\n",
       "            <tr>\n",
       "                        <th id=\"T_6b67cb21_d694_11eb_a43f_3c7c3f5d70b1level0_row1\" class=\"row_heading level0 row1\" >new_vaccinations_smoothed</th>\n",
       "                        <td id=\"T_6b67cb21_d694_11eb_a43f_3c7c3f5d70b1row1_col0\" class=\"data row1 col0\" >0.580976</td>\n",
       "                        <td id=\"T_6b67cb21_d694_11eb_a43f_3c7c3f5d70b1row1_col1\" class=\"data row1 col1\" >1.000000</td>\n",
       "            </tr>\n",
       "    </tbody></table>"
      ],
      "text/plain": [
       "<pandas.io.formats.style.Styler at 0x19061df91f0>"
      ]
     },
     "execution_count": 13,
     "metadata": {},
     "output_type": "execute_result"
    }
   ],
   "source": [
    "dft = data_NER[['total_cases', 'new_vaccinations_smoothed']]\n",
    "corr = dft.corr()\n",
    "corr.style.background_gradient(cmap='coolwarm', vmin=-1, vmax=1)"
   ]
  },
  {
   "cell_type": "markdown",
   "metadata": {},
   "source": [
    "## New deaths and total deaths in correlation to new vaccinations in the Netherlands"
   ]
  },
  {
   "cell_type": "code",
   "execution_count": 16,
   "metadata": {},
   "outputs": [
    {
     "data": {
      "text/html": [
       "<style  type=\"text/css\" >\n",
       "#T_f0d0596e_d695_11eb_97ab_3c7c3f5d70b1row0_col0,#T_f0d0596e_d695_11eb_97ab_3c7c3f5d70b1row1_col1{\n",
       "            background-color:  #b40426;\n",
       "            color:  #f1f1f1;\n",
       "        }#T_f0d0596e_d695_11eb_97ab_3c7c3f5d70b1row0_col1,#T_f0d0596e_d695_11eb_97ab_3c7c3f5d70b1row1_col0{\n",
       "            background-color:  #688aef;\n",
       "            color:  #000000;\n",
       "        }</style><table id=\"T_f0d0596e_d695_11eb_97ab_3c7c3f5d70b1\" ><thead>    <tr>        <th class=\"blank level0\" ></th>        <th class=\"col_heading level0 col0\" >new_deaths</th>        <th class=\"col_heading level0 col1\" >new_vaccinations_smoothed</th>    </tr></thead><tbody>\n",
       "                <tr>\n",
       "                        <th id=\"T_f0d0596e_d695_11eb_97ab_3c7c3f5d70b1level0_row0\" class=\"row_heading level0 row0\" >new_deaths</th>\n",
       "                        <td id=\"T_f0d0596e_d695_11eb_97ab_3c7c3f5d70b1row0_col0\" class=\"data row0 col0\" >1.000000</td>\n",
       "                        <td id=\"T_f0d0596e_d695_11eb_97ab_3c7c3f5d70b1row0_col1\" class=\"data row0 col1\" >-0.709755</td>\n",
       "            </tr>\n",
       "            <tr>\n",
       "                        <th id=\"T_f0d0596e_d695_11eb_97ab_3c7c3f5d70b1level0_row1\" class=\"row_heading level0 row1\" >new_vaccinations_smoothed</th>\n",
       "                        <td id=\"T_f0d0596e_d695_11eb_97ab_3c7c3f5d70b1row1_col0\" class=\"data row1 col0\" >-0.709755</td>\n",
       "                        <td id=\"T_f0d0596e_d695_11eb_97ab_3c7c3f5d70b1row1_col1\" class=\"data row1 col1\" >1.000000</td>\n",
       "            </tr>\n",
       "    </tbody></table>"
      ],
      "text/plain": [
       "<pandas.io.formats.style.Styler at 0x19061e8e700>"
      ]
     },
     "execution_count": 16,
     "metadata": {},
     "output_type": "execute_result"
    }
   ],
   "source": [
    "dfn = data_NLD[['new_deaths', 'new_vaccinations_smoothed']]\n",
    "corr = dfn.corr()\n",
    "corr.style.background_gradient(cmap='coolwarm', vmin=-1, vmax=1)"
   ]
  },
  {
   "cell_type": "code",
   "execution_count": 17,
   "metadata": {
    "scrolled": true
   },
   "outputs": [
    {
     "data": {
      "text/html": [
       "<style  type=\"text/css\" >\n",
       "#T_f93a2b2a_d695_11eb_b841_3c7c3f5d70b1row0_col0,#T_f93a2b2a_d695_11eb_b841_3c7c3f5d70b1row1_col1{\n",
       "            background-color:  #b40426;\n",
       "            color:  #f1f1f1;\n",
       "        }#T_f93a2b2a_d695_11eb_b841_3c7c3f5d70b1row0_col1,#T_f93a2b2a_d695_11eb_b841_3c7c3f5d70b1row1_col0{\n",
       "            background-color:  #d0473d;\n",
       "            color:  #f1f1f1;\n",
       "        }</style><table id=\"T_f93a2b2a_d695_11eb_b841_3c7c3f5d70b1\" ><thead>    <tr>        <th class=\"blank level0\" ></th>        <th class=\"col_heading level0 col0\" >total_deaths</th>        <th class=\"col_heading level0 col1\" >new_vaccinations_smoothed</th>    </tr></thead><tbody>\n",
       "                <tr>\n",
       "                        <th id=\"T_f93a2b2a_d695_11eb_b841_3c7c3f5d70b1level0_row0\" class=\"row_heading level0 row0\" >total_deaths</th>\n",
       "                        <td id=\"T_f93a2b2a_d695_11eb_b841_3c7c3f5d70b1row0_col0\" class=\"data row0 col0\" >1.000000</td>\n",
       "                        <td id=\"T_f93a2b2a_d695_11eb_b841_3c7c3f5d70b1row0_col1\" class=\"data row0 col1\" >0.840545</td>\n",
       "            </tr>\n",
       "            <tr>\n",
       "                        <th id=\"T_f93a2b2a_d695_11eb_b841_3c7c3f5d70b1level0_row1\" class=\"row_heading level0 row1\" >new_vaccinations_smoothed</th>\n",
       "                        <td id=\"T_f93a2b2a_d695_11eb_b841_3c7c3f5d70b1row1_col0\" class=\"data row1 col0\" >0.840545</td>\n",
       "                        <td id=\"T_f93a2b2a_d695_11eb_b841_3c7c3f5d70b1row1_col1\" class=\"data row1 col1\" >1.000000</td>\n",
       "            </tr>\n",
       "    </tbody></table>"
      ],
      "text/plain": [
       "<pandas.io.formats.style.Styler at 0x19061df99d0>"
      ]
     },
     "execution_count": 17,
     "metadata": {},
     "output_type": "execute_result"
    }
   ],
   "source": [
    "dft = data_NLD[['total_deaths', 'new_vaccinations_smoothed']]\n",
    "corr = dft.corr()\n",
    "corr.style.background_gradient(cmap='coolwarm', vmin=-1, vmax=1)"
   ]
  },
  {
   "cell_type": "markdown",
   "metadata": {},
   "source": [
    "## New deaths and total deaths in correlation to new vaccinations in India"
   ]
  },
  {
   "cell_type": "code",
   "execution_count": 18,
   "metadata": {
    "scrolled": true
   },
   "outputs": [
    {
     "data": {
      "text/html": [
       "<style  type=\"text/css\" >\n",
       "#T_0e174686_d696_11eb_a244_3c7c3f5d70b1row0_col0,#T_0e174686_d696_11eb_a244_3c7c3f5d70b1row1_col1{\n",
       "            background-color:  #b40426;\n",
       "            color:  #f1f1f1;\n",
       "        }#T_0e174686_d696_11eb_a244_3c7c3f5d70b1row0_col1,#T_0e174686_d696_11eb_a244_3c7c3f5d70b1row1_col0{\n",
       "            background-color:  #f6a586;\n",
       "            color:  #000000;\n",
       "        }</style><table id=\"T_0e174686_d696_11eb_a244_3c7c3f5d70b1\" ><thead>    <tr>        <th class=\"blank level0\" ></th>        <th class=\"col_heading level0 col0\" >new_deaths</th>        <th class=\"col_heading level0 col1\" >new_vaccinations_smoothed</th>    </tr></thead><tbody>\n",
       "                <tr>\n",
       "                        <th id=\"T_0e174686_d696_11eb_a244_3c7c3f5d70b1level0_row0\" class=\"row_heading level0 row0\" >new_deaths</th>\n",
       "                        <td id=\"T_0e174686_d696_11eb_a244_3c7c3f5d70b1row0_col0\" class=\"data row0 col0\" >1.000000</td>\n",
       "                        <td id=\"T_0e174686_d696_11eb_a244_3c7c3f5d70b1row0_col1\" class=\"data row0 col1\" >0.437990</td>\n",
       "            </tr>\n",
       "            <tr>\n",
       "                        <th id=\"T_0e174686_d696_11eb_a244_3c7c3f5d70b1level0_row1\" class=\"row_heading level0 row1\" >new_vaccinations_smoothed</th>\n",
       "                        <td id=\"T_0e174686_d696_11eb_a244_3c7c3f5d70b1row1_col0\" class=\"data row1 col0\" >0.437990</td>\n",
       "                        <td id=\"T_0e174686_d696_11eb_a244_3c7c3f5d70b1row1_col1\" class=\"data row1 col1\" >1.000000</td>\n",
       "            </tr>\n",
       "    </tbody></table>"
      ],
      "text/plain": [
       "<pandas.io.formats.style.Styler at 0x19061e98130>"
      ]
     },
     "execution_count": 18,
     "metadata": {},
     "output_type": "execute_result"
    }
   ],
   "source": [
    "df = data_IND[['new_deaths', 'new_vaccinations_smoothed']]\n",
    "corr = df.corr()\n",
    "corr.style.background_gradient(cmap='coolwarm', vmin=-1, vmax=1)"
   ]
  },
  {
   "cell_type": "code",
   "execution_count": 19,
   "metadata": {
    "scrolled": true
   },
   "outputs": [
    {
     "data": {
      "text/html": [
       "<style  type=\"text/css\" >\n",
       "#T_181cc4b7_d696_11eb_8d7e_3c7c3f5d70b1row0_col0,#T_181cc4b7_d696_11eb_8d7e_3c7c3f5d70b1row1_col1{\n",
       "            background-color:  #b40426;\n",
       "            color:  #f1f1f1;\n",
       "        }#T_181cc4b7_d696_11eb_8d7e_3c7c3f5d70b1row0_col1,#T_181cc4b7_d696_11eb_8d7e_3c7c3f5d70b1row1_col0{\n",
       "            background-color:  #ee8669;\n",
       "            color:  #000000;\n",
       "        }</style><table id=\"T_181cc4b7_d696_11eb_8d7e_3c7c3f5d70b1\" ><thead>    <tr>        <th class=\"blank level0\" ></th>        <th class=\"col_heading level0 col0\" >total_deaths</th>        <th class=\"col_heading level0 col1\" >new_vaccinations_smoothed</th>    </tr></thead><tbody>\n",
       "                <tr>\n",
       "                        <th id=\"T_181cc4b7_d696_11eb_8d7e_3c7c3f5d70b1level0_row0\" class=\"row_heading level0 row0\" >total_deaths</th>\n",
       "                        <td id=\"T_181cc4b7_d696_11eb_8d7e_3c7c3f5d70b1row0_col0\" class=\"data row0 col0\" >1.000000</td>\n",
       "                        <td id=\"T_181cc4b7_d696_11eb_8d7e_3c7c3f5d70b1row0_col1\" class=\"data row0 col1\" >0.587832</td>\n",
       "            </tr>\n",
       "            <tr>\n",
       "                        <th id=\"T_181cc4b7_d696_11eb_8d7e_3c7c3f5d70b1level0_row1\" class=\"row_heading level0 row1\" >new_vaccinations_smoothed</th>\n",
       "                        <td id=\"T_181cc4b7_d696_11eb_8d7e_3c7c3f5d70b1row1_col0\" class=\"data row1 col0\" >0.587832</td>\n",
       "                        <td id=\"T_181cc4b7_d696_11eb_8d7e_3c7c3f5d70b1row1_col1\" class=\"data row1 col1\" >1.000000</td>\n",
       "            </tr>\n",
       "    </tbody></table>"
      ],
      "text/plain": [
       "<pandas.io.formats.style.Styler at 0x19061e98550>"
      ]
     },
     "execution_count": 19,
     "metadata": {},
     "output_type": "execute_result"
    }
   ],
   "source": [
    "df = data_IND[['total_deaths', 'new_vaccinations_smoothed']]\n",
    "corr = df.corr()\n",
    "corr.style.background_gradient(cmap='coolwarm', vmin=-1, vmax=1)"
   ]
  },
  {
   "cell_type": "markdown",
   "metadata": {},
   "source": [
    "## New deaths and total deaths in correlation to new vaccinations in the USA"
   ]
  },
  {
   "cell_type": "code",
   "execution_count": 20,
   "metadata": {},
   "outputs": [
    {
     "data": {
      "text/html": [
       "<style  type=\"text/css\" >\n",
       "#T_2f30403f_d696_11eb_806c_3c7c3f5d70b1row0_col0,#T_2f30403f_d696_11eb_806c_3c7c3f5d70b1row1_col1{\n",
       "            background-color:  #b40426;\n",
       "            color:  #f1f1f1;\n",
       "        }#T_2f30403f_d696_11eb_806c_3c7c3f5d70b1row0_col1,#T_2f30403f_d696_11eb_806c_3c7c3f5d70b1row1_col0{\n",
       "            background-color:  #8badfd;\n",
       "            color:  #000000;\n",
       "        }</style><table id=\"T_2f30403f_d696_11eb_806c_3c7c3f5d70b1\" ><thead>    <tr>        <th class=\"blank level0\" ></th>        <th class=\"col_heading level0 col0\" >new_deaths</th>        <th class=\"col_heading level0 col1\" >new_vaccinations_smoothed</th>    </tr></thead><tbody>\n",
       "                <tr>\n",
       "                        <th id=\"T_2f30403f_d696_11eb_806c_3c7c3f5d70b1level0_row0\" class=\"row_heading level0 row0\" >new_deaths</th>\n",
       "                        <td id=\"T_2f30403f_d696_11eb_806c_3c7c3f5d70b1row0_col0\" class=\"data row0 col0\" >1.000000</td>\n",
       "                        <td id=\"T_2f30403f_d696_11eb_806c_3c7c3f5d70b1row0_col1\" class=\"data row0 col1\" >-0.513012</td>\n",
       "            </tr>\n",
       "            <tr>\n",
       "                        <th id=\"T_2f30403f_d696_11eb_806c_3c7c3f5d70b1level0_row1\" class=\"row_heading level0 row1\" >new_vaccinations_smoothed</th>\n",
       "                        <td id=\"T_2f30403f_d696_11eb_806c_3c7c3f5d70b1row1_col0\" class=\"data row1 col0\" >-0.513012</td>\n",
       "                        <td id=\"T_2f30403f_d696_11eb_806c_3c7c3f5d70b1row1_col1\" class=\"data row1 col1\" >1.000000</td>\n",
       "            </tr>\n",
       "    </tbody></table>"
      ],
      "text/plain": [
       "<pandas.io.formats.style.Styler at 0x19059fcacd0>"
      ]
     },
     "execution_count": 20,
     "metadata": {},
     "output_type": "execute_result"
    }
   ],
   "source": [
    "df = data_USA[['new_deaths', 'new_vaccinations_smoothed']]\n",
    "corr = df.corr()\n",
    "corr.style.background_gradient(cmap='coolwarm', vmin=-1, vmax=1)"
   ]
  },
  {
   "cell_type": "code",
   "execution_count": 21,
   "metadata": {
    "scrolled": true
   },
   "outputs": [
    {
     "data": {
      "text/html": [
       "<style  type=\"text/css\" >\n",
       "#T_38ae5715_d696_11eb_8ba9_3c7c3f5d70b1row0_col0,#T_38ae5715_d696_11eb_8ba9_3c7c3f5d70b1row1_col1{\n",
       "            background-color:  #b40426;\n",
       "            color:  #f1f1f1;\n",
       "        }#T_38ae5715_d696_11eb_8ba9_3c7c3f5d70b1row0_col1,#T_38ae5715_d696_11eb_8ba9_3c7c3f5d70b1row1_col0{\n",
       "            background-color:  #e9785d;\n",
       "            color:  #000000;\n",
       "        }</style><table id=\"T_38ae5715_d696_11eb_8ba9_3c7c3f5d70b1\" ><thead>    <tr>        <th class=\"blank level0\" ></th>        <th class=\"col_heading level0 col0\" >total_deaths</th>        <th class=\"col_heading level0 col1\" >new_vaccinations_smoothed</th>    </tr></thead><tbody>\n",
       "                <tr>\n",
       "                        <th id=\"T_38ae5715_d696_11eb_8ba9_3c7c3f5d70b1level0_row0\" class=\"row_heading level0 row0\" >total_deaths</th>\n",
       "                        <td id=\"T_38ae5715_d696_11eb_8ba9_3c7c3f5d70b1row0_col0\" class=\"data row0 col0\" >1.000000</td>\n",
       "                        <td id=\"T_38ae5715_d696_11eb_8ba9_3c7c3f5d70b1row0_col1\" class=\"data row0 col1\" >0.652194</td>\n",
       "            </tr>\n",
       "            <tr>\n",
       "                        <th id=\"T_38ae5715_d696_11eb_8ba9_3c7c3f5d70b1level0_row1\" class=\"row_heading level0 row1\" >new_vaccinations_smoothed</th>\n",
       "                        <td id=\"T_38ae5715_d696_11eb_8ba9_3c7c3f5d70b1row1_col0\" class=\"data row1 col0\" >0.652194</td>\n",
       "                        <td id=\"T_38ae5715_d696_11eb_8ba9_3c7c3f5d70b1row1_col1\" class=\"data row1 col1\" >1.000000</td>\n",
       "            </tr>\n",
       "    </tbody></table>"
      ],
      "text/plain": [
       "<pandas.io.formats.style.Styler at 0x19061de98e0>"
      ]
     },
     "execution_count": 21,
     "metadata": {},
     "output_type": "execute_result"
    }
   ],
   "source": [
    "df = data_USA[['total_deaths', 'new_vaccinations_smoothed']]\n",
    "corr = df.corr()\n",
    "corr.style.background_gradient(cmap='coolwarm', vmin=-1, vmax=1)"
   ]
  },
  {
   "cell_type": "markdown",
   "metadata": {},
   "source": [
    "## New deaths and total deaths in correlation to new vaccinations in Brazil"
   ]
  },
  {
   "cell_type": "code",
   "execution_count": 22,
   "metadata": {},
   "outputs": [
    {
     "data": {
      "text/html": [
       "<style  type=\"text/css\" >\n",
       "#T_4f86d99d_d696_11eb_a27d_3c7c3f5d70b1row0_col0,#T_4f86d99d_d696_11eb_a27d_3c7c3f5d70b1row1_col1{\n",
       "            background-color:  #b40426;\n",
       "            color:  #f1f1f1;\n",
       "        }#T_4f86d99d_d696_11eb_a27d_3c7c3f5d70b1row0_col1,#T_4f86d99d_d696_11eb_a27d_3c7c3f5d70b1row1_col0{\n",
       "            background-color:  #f7b396;\n",
       "            color:  #000000;\n",
       "        }</style><table id=\"T_4f86d99d_d696_11eb_a27d_3c7c3f5d70b1\" ><thead>    <tr>        <th class=\"blank level0\" ></th>        <th class=\"col_heading level0 col0\" >new_deaths</th>        <th class=\"col_heading level0 col1\" >new_vaccinations_smoothed</th>    </tr></thead><tbody>\n",
       "                <tr>\n",
       "                        <th id=\"T_4f86d99d_d696_11eb_a27d_3c7c3f5d70b1level0_row0\" class=\"row_heading level0 row0\" >new_deaths</th>\n",
       "                        <td id=\"T_4f86d99d_d696_11eb_a27d_3c7c3f5d70b1row0_col0\" class=\"data row0 col0\" >1.000000</td>\n",
       "                        <td id=\"T_4f86d99d_d696_11eb_a27d_3c7c3f5d70b1row0_col1\" class=\"data row0 col1\" >0.365747</td>\n",
       "            </tr>\n",
       "            <tr>\n",
       "                        <th id=\"T_4f86d99d_d696_11eb_a27d_3c7c3f5d70b1level0_row1\" class=\"row_heading level0 row1\" >new_vaccinations_smoothed</th>\n",
       "                        <td id=\"T_4f86d99d_d696_11eb_a27d_3c7c3f5d70b1row1_col0\" class=\"data row1 col0\" >0.365747</td>\n",
       "                        <td id=\"T_4f86d99d_d696_11eb_a27d_3c7c3f5d70b1row1_col1\" class=\"data row1 col1\" >1.000000</td>\n",
       "            </tr>\n",
       "    </tbody></table>"
      ],
      "text/plain": [
       "<pandas.io.formats.style.Styler at 0x19061e98ee0>"
      ]
     },
     "execution_count": 22,
     "metadata": {},
     "output_type": "execute_result"
    }
   ],
   "source": [
    "df = data_BRA[['new_deaths', 'new_vaccinations_smoothed']]\n",
    "corr = df.corr()\n",
    "corr.style.background_gradient(cmap='coolwarm', vmin=-1, vmax=1)"
   ]
  },
  {
   "cell_type": "code",
   "execution_count": 23,
   "metadata": {
    "scrolled": true
   },
   "outputs": [
    {
     "data": {
      "text/html": [
       "<style  type=\"text/css\" >\n",
       "#T_5b2d9bf3_d696_11eb_890b_3c7c3f5d70b1row0_col0,#T_5b2d9bf3_d696_11eb_890b_3c7c3f5d70b1row1_col1{\n",
       "            background-color:  #b40426;\n",
       "            color:  #f1f1f1;\n",
       "        }#T_5b2d9bf3_d696_11eb_890b_3c7c3f5d70b1row0_col1,#T_5b2d9bf3_d696_11eb_890b_3c7c3f5d70b1row1_col0{\n",
       "            background-color:  #cb3e38;\n",
       "            color:  #f1f1f1;\n",
       "        }</style><table id=\"T_5b2d9bf3_d696_11eb_890b_3c7c3f5d70b1\" ><thead>    <tr>        <th class=\"blank level0\" ></th>        <th class=\"col_heading level0 col0\" >total_deaths</th>        <th class=\"col_heading level0 col1\" >new_vaccinations_smoothed</th>    </tr></thead><tbody>\n",
       "                <tr>\n",
       "                        <th id=\"T_5b2d9bf3_d696_11eb_890b_3c7c3f5d70b1level0_row0\" class=\"row_heading level0 row0\" >total_deaths</th>\n",
       "                        <td id=\"T_5b2d9bf3_d696_11eb_890b_3c7c3f5d70b1row0_col0\" class=\"data row0 col0\" >1.000000</td>\n",
       "                        <td id=\"T_5b2d9bf3_d696_11eb_890b_3c7c3f5d70b1row0_col1\" class=\"data row0 col1\" >0.872504</td>\n",
       "            </tr>\n",
       "            <tr>\n",
       "                        <th id=\"T_5b2d9bf3_d696_11eb_890b_3c7c3f5d70b1level0_row1\" class=\"row_heading level0 row1\" >new_vaccinations_smoothed</th>\n",
       "                        <td id=\"T_5b2d9bf3_d696_11eb_890b_3c7c3f5d70b1row1_col0\" class=\"data row1 col0\" >0.872504</td>\n",
       "                        <td id=\"T_5b2d9bf3_d696_11eb_890b_3c7c3f5d70b1row1_col1\" class=\"data row1 col1\" >1.000000</td>\n",
       "            </tr>\n",
       "    </tbody></table>"
      ],
      "text/plain": [
       "<pandas.io.formats.style.Styler at 0x19061ea1760>"
      ]
     },
     "execution_count": 23,
     "metadata": {},
     "output_type": "execute_result"
    }
   ],
   "source": [
    "df = data_BRA[['total_deaths', 'new_vaccinations_smoothed']]\n",
    "corr = df.corr()\n",
    "corr.style.background_gradient(cmap='coolwarm', vmin=-1, vmax=1)"
   ]
  },
  {
   "cell_type": "markdown",
   "metadata": {},
   "source": [
    "## New deaths and total deaths in correlation to new vaccinations in Niger"
   ]
  },
  {
   "cell_type": "code",
   "execution_count": 24,
   "metadata": {
    "scrolled": true
   },
   "outputs": [
    {
     "data": {
      "text/html": [
       "<style  type=\"text/css\" >\n",
       "#T_6f1ec353_d696_11eb_bb9c_3c7c3f5d70b1row0_col0,#T_6f1ec353_d696_11eb_bb9c_3c7c3f5d70b1row1_col1{\n",
       "            background-color:  #b40426;\n",
       "            color:  #f1f1f1;\n",
       "        }#T_6f1ec353_d696_11eb_bb9c_3c7c3f5d70b1row0_col1,#T_6f1ec353_d696_11eb_bb9c_3c7c3f5d70b1row1_col0{\n",
       "            background-color:  #b5cdfa;\n",
       "            color:  #000000;\n",
       "        }</style><table id=\"T_6f1ec353_d696_11eb_bb9c_3c7c3f5d70b1\" ><thead>    <tr>        <th class=\"blank level0\" ></th>        <th class=\"col_heading level0 col0\" >new_deaths</th>        <th class=\"col_heading level0 col1\" >new_vaccinations_smoothed</th>    </tr></thead><tbody>\n",
       "                <tr>\n",
       "                        <th id=\"T_6f1ec353_d696_11eb_bb9c_3c7c3f5d70b1level0_row0\" class=\"row_heading level0 row0\" >new_deaths</th>\n",
       "                        <td id=\"T_6f1ec353_d696_11eb_bb9c_3c7c3f5d70b1row0_col0\" class=\"data row0 col0\" >1.000000</td>\n",
       "                        <td id=\"T_6f1ec353_d696_11eb_bb9c_3c7c3f5d70b1row0_col1\" class=\"data row0 col1\" >-0.268573</td>\n",
       "            </tr>\n",
       "            <tr>\n",
       "                        <th id=\"T_6f1ec353_d696_11eb_bb9c_3c7c3f5d70b1level0_row1\" class=\"row_heading level0 row1\" >new_vaccinations_smoothed</th>\n",
       "                        <td id=\"T_6f1ec353_d696_11eb_bb9c_3c7c3f5d70b1row1_col0\" class=\"data row1 col0\" >-0.268573</td>\n",
       "                        <td id=\"T_6f1ec353_d696_11eb_bb9c_3c7c3f5d70b1row1_col1\" class=\"data row1 col1\" >1.000000</td>\n",
       "            </tr>\n",
       "    </tbody></table>"
      ],
      "text/plain": [
       "<pandas.io.formats.style.Styler at 0x19061e8e2b0>"
      ]
     },
     "execution_count": 24,
     "metadata": {},
     "output_type": "execute_result"
    }
   ],
   "source": [
    "df = data_NER[['new_deaths', 'new_vaccinations_smoothed']]\n",
    "corr = df.corr()\n",
    "corr.style.background_gradient(cmap='coolwarm', vmin=-1, vmax=1)"
   ]
  },
  {
   "cell_type": "code",
   "execution_count": 25,
   "metadata": {
    "scrolled": true
   },
   "outputs": [
    {
     "data": {
      "text/html": [
       "<style  type=\"text/css\" >\n",
       "#T_7b050f8a_d696_11eb_9e8d_3c7c3f5d70b1row0_col0,#T_7b050f8a_d696_11eb_9e8d_3c7c3f5d70b1row1_col1{\n",
       "            background-color:  #b40426;\n",
       "            color:  #f1f1f1;\n",
       "        }#T_7b050f8a_d696_11eb_9e8d_3c7c3f5d70b1row0_col1,#T_7b050f8a_d696_11eb_9e8d_3c7c3f5d70b1row1_col0{\n",
       "            background-color:  #e8765c;\n",
       "            color:  #000000;\n",
       "        }</style><table id=\"T_7b050f8a_d696_11eb_9e8d_3c7c3f5d70b1\" ><thead>    <tr>        <th class=\"blank level0\" ></th>        <th class=\"col_heading level0 col0\" >total_deaths</th>        <th class=\"col_heading level0 col1\" >new_vaccinations_smoothed</th>    </tr></thead><tbody>\n",
       "                <tr>\n",
       "                        <th id=\"T_7b050f8a_d696_11eb_9e8d_3c7c3f5d70b1level0_row0\" class=\"row_heading level0 row0\" >total_deaths</th>\n",
       "                        <td id=\"T_7b050f8a_d696_11eb_9e8d_3c7c3f5d70b1row0_col0\" class=\"data row0 col0\" >1.000000</td>\n",
       "                        <td id=\"T_7b050f8a_d696_11eb_9e8d_3c7c3f5d70b1row0_col1\" class=\"data row0 col1\" >0.661186</td>\n",
       "            </tr>\n",
       "            <tr>\n",
       "                        <th id=\"T_7b050f8a_d696_11eb_9e8d_3c7c3f5d70b1level0_row1\" class=\"row_heading level0 row1\" >new_vaccinations_smoothed</th>\n",
       "                        <td id=\"T_7b050f8a_d696_11eb_9e8d_3c7c3f5d70b1row1_col0\" class=\"data row1 col0\" >0.661186</td>\n",
       "                        <td id=\"T_7b050f8a_d696_11eb_9e8d_3c7c3f5d70b1row1_col1\" class=\"data row1 col1\" >1.000000</td>\n",
       "            </tr>\n",
       "    </tbody></table>"
      ],
      "text/plain": [
       "<pandas.io.formats.style.Styler at 0x19061e048b0>"
      ]
     },
     "execution_count": 25,
     "metadata": {},
     "output_type": "execute_result"
    }
   ],
   "source": [
    "df = data_NER[['total_deaths', 'new_vaccinations_smoothed']]\n",
    "corr = df.corr()\n",
    "corr.style.background_gradient(cmap='coolwarm', vmin=-1, vmax=1)"
   ]
  },
  {
   "cell_type": "markdown",
   "metadata": {},
   "source": [
    "## New cases and total cases in correlation to ICU-patients in the Netherlands"
   ]
  },
  {
   "cell_type": "code",
   "execution_count": 26,
   "metadata": {
    "scrolled": true
   },
   "outputs": [
    {
     "data": {
      "text/html": [
       "<style  type=\"text/css\" >\n",
       "#T_a5705bff_d696_11eb_9553_3c7c3f5d70b1row0_col0,#T_a5705bff_d696_11eb_9553_3c7c3f5d70b1row1_col1{\n",
       "            background-color:  #b40426;\n",
       "            color:  #f1f1f1;\n",
       "        }#T_a5705bff_d696_11eb_9553_3c7c3f5d70b1row0_col1,#T_a5705bff_d696_11eb_9553_3c7c3f5d70b1row1_col0{\n",
       "            background-color:  #f7a688;\n",
       "            color:  #000000;\n",
       "        }</style><table id=\"T_a5705bff_d696_11eb_9553_3c7c3f5d70b1\" ><thead>    <tr>        <th class=\"blank level0\" ></th>        <th class=\"col_heading level0 col0\" >new_cases</th>        <th class=\"col_heading level0 col1\" >icu_patients</th>    </tr></thead><tbody>\n",
       "                <tr>\n",
       "                        <th id=\"T_a5705bff_d696_11eb_9553_3c7c3f5d70b1level0_row0\" class=\"row_heading level0 row0\" >new_cases</th>\n",
       "                        <td id=\"T_a5705bff_d696_11eb_9553_3c7c3f5d70b1row0_col0\" class=\"data row0 col0\" >1.000000</td>\n",
       "                        <td id=\"T_a5705bff_d696_11eb_9553_3c7c3f5d70b1row0_col1\" class=\"data row0 col1\" >0.433373</td>\n",
       "            </tr>\n",
       "            <tr>\n",
       "                        <th id=\"T_a5705bff_d696_11eb_9553_3c7c3f5d70b1level0_row1\" class=\"row_heading level0 row1\" >icu_patients</th>\n",
       "                        <td id=\"T_a5705bff_d696_11eb_9553_3c7c3f5d70b1row1_col0\" class=\"data row1 col0\" >0.433373</td>\n",
       "                        <td id=\"T_a5705bff_d696_11eb_9553_3c7c3f5d70b1row1_col1\" class=\"data row1 col1\" >1.000000</td>\n",
       "            </tr>\n",
       "    </tbody></table>"
      ],
      "text/plain": [
       "<pandas.io.formats.style.Styler at 0x19061e9e9d0>"
      ]
     },
     "execution_count": 26,
     "metadata": {},
     "output_type": "execute_result"
    }
   ],
   "source": [
    "df = data_NLD[['new_cases', 'icu_patients']]\n",
    "corr = df.corr()\n",
    "corr.style.background_gradient(cmap='coolwarm', vmin=-1, vmax=1)"
   ]
  },
  {
   "cell_type": "code",
   "execution_count": 27,
   "metadata": {
    "scrolled": true
   },
   "outputs": [
    {
     "data": {
      "text/html": [
       "<style  type=\"text/css\" >\n",
       "#T_b08a92db_d696_11eb_a48e_3c7c3f5d70b1row0_col0,#T_b08a92db_d696_11eb_a48e_3c7c3f5d70b1row1_col1{\n",
       "            background-color:  #b40426;\n",
       "            color:  #f1f1f1;\n",
       "        }#T_b08a92db_d696_11eb_a48e_3c7c3f5d70b1row0_col1,#T_b08a92db_d696_11eb_a48e_3c7c3f5d70b1row1_col0{\n",
       "            background-color:  #f7af91;\n",
       "            color:  #000000;\n",
       "        }</style><table id=\"T_b08a92db_d696_11eb_a48e_3c7c3f5d70b1\" ><thead>    <tr>        <th class=\"blank level0\" ></th>        <th class=\"col_heading level0 col0\" >total_cases</th>        <th class=\"col_heading level0 col1\" >icu_patients</th>    </tr></thead><tbody>\n",
       "                <tr>\n",
       "                        <th id=\"T_b08a92db_d696_11eb_a48e_3c7c3f5d70b1level0_row0\" class=\"row_heading level0 row0\" >total_cases</th>\n",
       "                        <td id=\"T_b08a92db_d696_11eb_a48e_3c7c3f5d70b1row0_col0\" class=\"data row0 col0\" >1.000000</td>\n",
       "                        <td id=\"T_b08a92db_d696_11eb_a48e_3c7c3f5d70b1row0_col1\" class=\"data row0 col1\" >0.383900</td>\n",
       "            </tr>\n",
       "            <tr>\n",
       "                        <th id=\"T_b08a92db_d696_11eb_a48e_3c7c3f5d70b1level0_row1\" class=\"row_heading level0 row1\" >icu_patients</th>\n",
       "                        <td id=\"T_b08a92db_d696_11eb_a48e_3c7c3f5d70b1row1_col0\" class=\"data row1 col0\" >0.383900</td>\n",
       "                        <td id=\"T_b08a92db_d696_11eb_a48e_3c7c3f5d70b1row1_col1\" class=\"data row1 col1\" >1.000000</td>\n",
       "            </tr>\n",
       "    </tbody></table>"
      ],
      "text/plain": [
       "<pandas.io.formats.style.Styler at 0x19061e9e6d0>"
      ]
     },
     "execution_count": 27,
     "metadata": {},
     "output_type": "execute_result"
    }
   ],
   "source": [
    "df = data_NLD[['total_cases', 'icu_patients']]\n",
    "corr = df.corr()\n",
    "corr.style.background_gradient(cmap='coolwarm', vmin=-1, vmax=1)"
   ]
  },
  {
   "cell_type": "markdown",
   "metadata": {},
   "source": [
    "## New cases and total cases in correlation to ICU-patients in the USA"
   ]
  },
  {
   "cell_type": "code",
   "execution_count": 28,
   "metadata": {},
   "outputs": [
    {
     "data": {
      "text/html": [
       "<style  type=\"text/css\" >\n",
       "#T_c8276aa9_d696_11eb_a4d6_3c7c3f5d70b1row0_col0,#T_c8276aa9_d696_11eb_a4d6_3c7c3f5d70b1row1_col1{\n",
       "            background-color:  #b40426;\n",
       "            color:  #f1f1f1;\n",
       "        }#T_c8276aa9_d696_11eb_a4d6_3c7c3f5d70b1row0_col1,#T_c8276aa9_d696_11eb_a4d6_3c7c3f5d70b1row1_col0{\n",
       "            background-color:  #c32e31;\n",
       "            color:  #f1f1f1;\n",
       "        }</style><table id=\"T_c8276aa9_d696_11eb_a4d6_3c7c3f5d70b1\" ><thead>    <tr>        <th class=\"blank level0\" ></th>        <th class=\"col_heading level0 col0\" >new_cases</th>        <th class=\"col_heading level0 col1\" >icu_patients</th>    </tr></thead><tbody>\n",
       "                <tr>\n",
       "                        <th id=\"T_c8276aa9_d696_11eb_a4d6_3c7c3f5d70b1level0_row0\" class=\"row_heading level0 row0\" >new_cases</th>\n",
       "                        <td id=\"T_c8276aa9_d696_11eb_a4d6_3c7c3f5d70b1row0_col0\" class=\"data row0 col0\" >1.000000</td>\n",
       "                        <td id=\"T_c8276aa9_d696_11eb_a4d6_3c7c3f5d70b1row0_col1\" class=\"data row0 col1\" >0.921275</td>\n",
       "            </tr>\n",
       "            <tr>\n",
       "                        <th id=\"T_c8276aa9_d696_11eb_a4d6_3c7c3f5d70b1level0_row1\" class=\"row_heading level0 row1\" >icu_patients</th>\n",
       "                        <td id=\"T_c8276aa9_d696_11eb_a4d6_3c7c3f5d70b1row1_col0\" class=\"data row1 col0\" >0.921275</td>\n",
       "                        <td id=\"T_c8276aa9_d696_11eb_a4d6_3c7c3f5d70b1row1_col1\" class=\"data row1 col1\" >1.000000</td>\n",
       "            </tr>\n",
       "    </tbody></table>"
      ],
      "text/plain": [
       "<pandas.io.formats.style.Styler at 0x19059fc40a0>"
      ]
     },
     "execution_count": 28,
     "metadata": {},
     "output_type": "execute_result"
    }
   ],
   "source": [
    "df = data_USA[['new_cases', 'icu_patients']]\n",
    "corr = df.corr()\n",
    "corr.style.background_gradient(cmap='coolwarm', vmin=-1, vmax=1)"
   ]
  },
  {
   "cell_type": "code",
   "execution_count": 29,
   "metadata": {
    "scrolled": true
   },
   "outputs": [
    {
     "data": {
      "text/html": [
       "<style  type=\"text/css\" >\n",
       "#T_d30aa402_d696_11eb_9dea_3c7c3f5d70b1row0_col0,#T_d30aa402_d696_11eb_9dea_3c7c3f5d70b1row1_col1{\n",
       "            background-color:  #b40426;\n",
       "            color:  #f1f1f1;\n",
       "        }#T_d30aa402_d696_11eb_9dea_3c7c3f5d70b1row0_col1,#T_d30aa402_d696_11eb_9dea_3c7c3f5d70b1row1_col0{\n",
       "            background-color:  #cdd9ec;\n",
       "            color:  #000000;\n",
       "        }</style><table id=\"T_d30aa402_d696_11eb_9dea_3c7c3f5d70b1\" ><thead>    <tr>        <th class=\"blank level0\" ></th>        <th class=\"col_heading level0 col0\" >total_cases</th>        <th class=\"col_heading level0 col1\" >icu_patients</th>    </tr></thead><tbody>\n",
       "                <tr>\n",
       "                        <th id=\"T_d30aa402_d696_11eb_9dea_3c7c3f5d70b1level0_row0\" class=\"row_heading level0 row0\" >total_cases</th>\n",
       "                        <td id=\"T_d30aa402_d696_11eb_9dea_3c7c3f5d70b1row0_col0\" class=\"data row0 col0\" >1.000000</td>\n",
       "                        <td id=\"T_d30aa402_d696_11eb_9dea_3c7c3f5d70b1row0_col1\" class=\"data row0 col1\" >-0.110769</td>\n",
       "            </tr>\n",
       "            <tr>\n",
       "                        <th id=\"T_d30aa402_d696_11eb_9dea_3c7c3f5d70b1level0_row1\" class=\"row_heading level0 row1\" >icu_patients</th>\n",
       "                        <td id=\"T_d30aa402_d696_11eb_9dea_3c7c3f5d70b1row1_col0\" class=\"data row1 col0\" >-0.110769</td>\n",
       "                        <td id=\"T_d30aa402_d696_11eb_9dea_3c7c3f5d70b1row1_col1\" class=\"data row1 col1\" >1.000000</td>\n",
       "            </tr>\n",
       "    </tbody></table>"
      ],
      "text/plain": [
       "<pandas.io.formats.style.Styler at 0x19059fc4370>"
      ]
     },
     "execution_count": 29,
     "metadata": {},
     "output_type": "execute_result"
    }
   ],
   "source": [
    "df = data_USA[['total_cases', 'icu_patients']]\n",
    "corr = df.corr()\n",
    "corr.style.background_gradient(cmap='coolwarm', vmin=-1, vmax=1)"
   ]
  },
  {
   "cell_type": "markdown",
   "metadata": {},
   "source": [
    "## New deaths and total deaths in correlation to ICU-patients in the Netherlands"
   ]
  },
  {
   "cell_type": "code",
   "execution_count": 30,
   "metadata": {
    "scrolled": true
   },
   "outputs": [
    {
     "data": {
      "text/html": [
       "<style  type=\"text/css\" >\n",
       "#T_0433d02a_d697_11eb_bf54_3c7c3f5d70b1row0_col0,#T_0433d02a_d697_11eb_bf54_3c7c3f5d70b1row1_col1{\n",
       "            background-color:  #b40426;\n",
       "            color:  #f1f1f1;\n",
       "        }#T_0433d02a_d697_11eb_bf54_3c7c3f5d70b1row0_col1,#T_0433d02a_d697_11eb_bf54_3c7c3f5d70b1row1_col0{\n",
       "            background-color:  #e0654f;\n",
       "            color:  #000000;\n",
       "        }</style><table id=\"T_0433d02a_d697_11eb_bf54_3c7c3f5d70b1\" ><thead>    <tr>        <th class=\"blank level0\" ></th>        <th class=\"col_heading level0 col0\" >new_deaths</th>        <th class=\"col_heading level0 col1\" >icu_patients</th>    </tr></thead><tbody>\n",
       "                <tr>\n",
       "                        <th id=\"T_0433d02a_d697_11eb_bf54_3c7c3f5d70b1level0_row0\" class=\"row_heading level0 row0\" >new_deaths</th>\n",
       "                        <td id=\"T_0433d02a_d697_11eb_bf54_3c7c3f5d70b1row0_col0\" class=\"data row0 col0\" >1.000000</td>\n",
       "                        <td id=\"T_0433d02a_d697_11eb_bf54_3c7c3f5d70b1row0_col1\" class=\"data row0 col1\" >0.733445</td>\n",
       "            </tr>\n",
       "            <tr>\n",
       "                        <th id=\"T_0433d02a_d697_11eb_bf54_3c7c3f5d70b1level0_row1\" class=\"row_heading level0 row1\" >icu_patients</th>\n",
       "                        <td id=\"T_0433d02a_d697_11eb_bf54_3c7c3f5d70b1row1_col0\" class=\"data row1 col0\" >0.733445</td>\n",
       "                        <td id=\"T_0433d02a_d697_11eb_bf54_3c7c3f5d70b1row1_col1\" class=\"data row1 col1\" >1.000000</td>\n",
       "            </tr>\n",
       "    </tbody></table>"
      ],
      "text/plain": [
       "<pandas.io.formats.style.Styler at 0x19061e9e250>"
      ]
     },
     "execution_count": 30,
     "metadata": {},
     "output_type": "execute_result"
    }
   ],
   "source": [
    "df = data_NLD[['new_deaths', 'icu_patients']]\n",
    "corr = df.corr()\n",
    "corr.style.background_gradient(cmap='coolwarm', vmin=-1, vmax=1)"
   ]
  },
  {
   "cell_type": "code",
   "execution_count": 31,
   "metadata": {},
   "outputs": [
    {
     "data": {
      "text/html": [
       "<style  type=\"text/css\" >\n",
       "#T_0e968f47_d697_11eb_ab79_3c7c3f5d70b1row0_col0,#T_0e968f47_d697_11eb_ab79_3c7c3f5d70b1row1_col1{\n",
       "            background-color:  #b40426;\n",
       "            color:  #f1f1f1;\n",
       "        }#T_0e968f47_d697_11eb_ab79_3c7c3f5d70b1row0_col1,#T_0e968f47_d697_11eb_ab79_3c7c3f5d70b1row1_col0{\n",
       "            background-color:  #f5c2aa;\n",
       "            color:  #000000;\n",
       "        }</style><table id=\"T_0e968f47_d697_11eb_ab79_3c7c3f5d70b1\" ><thead>    <tr>        <th class=\"blank level0\" ></th>        <th class=\"col_heading level0 col0\" >total_deaths</th>        <th class=\"col_heading level0 col1\" >icu_patients</th>    </tr></thead><tbody>\n",
       "                <tr>\n",
       "                        <th id=\"T_0e968f47_d697_11eb_ab79_3c7c3f5d70b1level0_row0\" class=\"row_heading level0 row0\" >total_deaths</th>\n",
       "                        <td id=\"T_0e968f47_d697_11eb_ab79_3c7c3f5d70b1row0_col0\" class=\"data row0 col0\" >1.000000</td>\n",
       "                        <td id=\"T_0e968f47_d697_11eb_ab79_3c7c3f5d70b1row0_col1\" class=\"data row0 col1\" >0.261334</td>\n",
       "            </tr>\n",
       "            <tr>\n",
       "                        <th id=\"T_0e968f47_d697_11eb_ab79_3c7c3f5d70b1level0_row1\" class=\"row_heading level0 row1\" >icu_patients</th>\n",
       "                        <td id=\"T_0e968f47_d697_11eb_ab79_3c7c3f5d70b1row1_col0\" class=\"data row1 col0\" >0.261334</td>\n",
       "                        <td id=\"T_0e968f47_d697_11eb_ab79_3c7c3f5d70b1row1_col1\" class=\"data row1 col1\" >1.000000</td>\n",
       "            </tr>\n",
       "    </tbody></table>"
      ],
      "text/plain": [
       "<pandas.io.formats.style.Styler at 0x19059fd5ca0>"
      ]
     },
     "execution_count": 31,
     "metadata": {},
     "output_type": "execute_result"
    }
   ],
   "source": [
    "df = data_NLD[['total_deaths', 'icu_patients']]\n",
    "corr = df.corr()\n",
    "corr.style.background_gradient(cmap='coolwarm', vmin=-1, vmax=1)"
   ]
  },
  {
   "cell_type": "markdown",
   "metadata": {},
   "source": [
    "## New deaths and total deaths in correlation to ICU-patients in the USA"
   ]
  },
  {
   "cell_type": "code",
   "execution_count": 32,
   "metadata": {},
   "outputs": [
    {
     "data": {
      "text/html": [
       "<style  type=\"text/css\" >\n",
       "#T_265ac295_d697_11eb_b88c_3c7c3f5d70b1row0_col0,#T_265ac295_d697_11eb_b88c_3c7c3f5d70b1row1_col1{\n",
       "            background-color:  #b40426;\n",
       "            color:  #f1f1f1;\n",
       "        }#T_265ac295_d697_11eb_b88c_3c7c3f5d70b1row0_col1,#T_265ac295_d697_11eb_b88c_3c7c3f5d70b1row1_col0{\n",
       "            background-color:  #d44e41;\n",
       "            color:  #000000;\n",
       "        }</style><table id=\"T_265ac295_d697_11eb_b88c_3c7c3f5d70b1\" ><thead>    <tr>        <th class=\"blank level0\" ></th>        <th class=\"col_heading level0 col0\" >new_deaths</th>        <th class=\"col_heading level0 col1\" >icu_patients</th>    </tr></thead><tbody>\n",
       "                <tr>\n",
       "                        <th id=\"T_265ac295_d697_11eb_b88c_3c7c3f5d70b1level0_row0\" class=\"row_heading level0 row0\" >new_deaths</th>\n",
       "                        <td id=\"T_265ac295_d697_11eb_b88c_3c7c3f5d70b1row0_col0\" class=\"data row0 col0\" >1.000000</td>\n",
       "                        <td id=\"T_265ac295_d697_11eb_b88c_3c7c3f5d70b1row0_col1\" class=\"data row0 col1\" >0.814095</td>\n",
       "            </tr>\n",
       "            <tr>\n",
       "                        <th id=\"T_265ac295_d697_11eb_b88c_3c7c3f5d70b1level0_row1\" class=\"row_heading level0 row1\" >icu_patients</th>\n",
       "                        <td id=\"T_265ac295_d697_11eb_b88c_3c7c3f5d70b1row1_col0\" class=\"data row1 col0\" >0.814095</td>\n",
       "                        <td id=\"T_265ac295_d697_11eb_b88c_3c7c3f5d70b1row1_col1\" class=\"data row1 col1\" >1.000000</td>\n",
       "            </tr>\n",
       "    </tbody></table>"
      ],
      "text/plain": [
       "<pandas.io.formats.style.Styler at 0x19061e9ea60>"
      ]
     },
     "execution_count": 32,
     "metadata": {},
     "output_type": "execute_result"
    }
   ],
   "source": [
    "df = data_USA[['new_deaths', 'icu_patients']]\n",
    "corr = df.corr()\n",
    "corr.style.background_gradient(cmap='coolwarm', vmin=-1, vmax=1)"
   ]
  },
  {
   "cell_type": "code",
   "execution_count": 33,
   "metadata": {
    "scrolled": true
   },
   "outputs": [
    {
     "data": {
      "text/html": [
       "<style  type=\"text/css\" >\n",
       "#T_30ecd71d_d697_11eb_a412_3c7c3f5d70b1row0_col0,#T_30ecd71d_d697_11eb_a412_3c7c3f5d70b1row1_col1{\n",
       "            background-color:  #b40426;\n",
       "            color:  #f1f1f1;\n",
       "        }#T_30ecd71d_d697_11eb_a412_3c7c3f5d70b1row0_col1,#T_30ecd71d_d697_11eb_a412_3c7c3f5d70b1row1_col0{\n",
       "            background-color:  #bfd3f6;\n",
       "            color:  #000000;\n",
       "        }</style><table id=\"T_30ecd71d_d697_11eb_a412_3c7c3f5d70b1\" ><thead>    <tr>        <th class=\"blank level0\" ></th>        <th class=\"col_heading level0 col0\" >total_deaths</th>        <th class=\"col_heading level0 col1\" >icu_patients</th>    </tr></thead><tbody>\n",
       "                <tr>\n",
       "                        <th id=\"T_30ecd71d_d697_11eb_a412_3c7c3f5d70b1level0_row0\" class=\"row_heading level0 row0\" >total_deaths</th>\n",
       "                        <td id=\"T_30ecd71d_d697_11eb_a412_3c7c3f5d70b1row0_col0\" class=\"data row0 col0\" >1.000000</td>\n",
       "                        <td id=\"T_30ecd71d_d697_11eb_a412_3c7c3f5d70b1row0_col1\" class=\"data row0 col1\" >-0.210298</td>\n",
       "            </tr>\n",
       "            <tr>\n",
       "                        <th id=\"T_30ecd71d_d697_11eb_a412_3c7c3f5d70b1level0_row1\" class=\"row_heading level0 row1\" >icu_patients</th>\n",
       "                        <td id=\"T_30ecd71d_d697_11eb_a412_3c7c3f5d70b1row1_col0\" class=\"data row1 col0\" >-0.210298</td>\n",
       "                        <td id=\"T_30ecd71d_d697_11eb_a412_3c7c3f5d70b1row1_col1\" class=\"data row1 col1\" >1.000000</td>\n",
       "            </tr>\n",
       "    </tbody></table>"
      ],
      "text/plain": [
       "<pandas.io.formats.style.Styler at 0x19061ea1a60>"
      ]
     },
     "execution_count": 33,
     "metadata": {},
     "output_type": "execute_result"
    }
   ],
   "source": [
    "df = data_USA[['total_deaths', 'icu_patients']]\n",
    "corr = df.corr()\n",
    "corr.style.background_gradient(cmap='coolwarm', vmin=-1, vmax=1)"
   ]
  },
  {
   "cell_type": "markdown",
   "metadata": {},
   "source": [
    "## New cases and total cases in correlation to stringency-index in the Netherlands"
   ]
  },
  {
   "cell_type": "code",
   "execution_count": 243,
   "metadata": {},
   "outputs": [
    {
     "data": {
      "text/html": [
       "<style  type=\"text/css\" >\n",
       "#T_902af9e1_d67e_11eb_901b_3c7c3f5d70b1row0_col0,#T_902af9e1_d67e_11eb_901b_3c7c3f5d70b1row1_col1{\n",
       "            background-color:  #b40426;\n",
       "            color:  #f1f1f1;\n",
       "        }#T_902af9e1_d67e_11eb_901b_3c7c3f5d70b1row0_col1,#T_902af9e1_d67e_11eb_901b_3c7c3f5d70b1row1_col0{\n",
       "            background-color:  #f7aa8c;\n",
       "            color:  #000000;\n",
       "        }</style><table id=\"T_902af9e1_d67e_11eb_901b_3c7c3f5d70b1\" ><thead>    <tr>        <th class=\"blank level0\" ></th>        <th class=\"col_heading level0 col0\" >new_cases</th>        <th class=\"col_heading level0 col1\" >stringency_index</th>    </tr></thead><tbody>\n",
       "                <tr>\n",
       "                        <th id=\"T_902af9e1_d67e_11eb_901b_3c7c3f5d70b1level0_row0\" class=\"row_heading level0 row0\" >new_cases</th>\n",
       "                        <td id=\"T_902af9e1_d67e_11eb_901b_3c7c3f5d70b1row0_col0\" class=\"data row0 col0\" >1.000000</td>\n",
       "                        <td id=\"T_902af9e1_d67e_11eb_901b_3c7c3f5d70b1row0_col1\" class=\"data row0 col1\" >0.410543</td>\n",
       "            </tr>\n",
       "            <tr>\n",
       "                        <th id=\"T_902af9e1_d67e_11eb_901b_3c7c3f5d70b1level0_row1\" class=\"row_heading level0 row1\" >stringency_index</th>\n",
       "                        <td id=\"T_902af9e1_d67e_11eb_901b_3c7c3f5d70b1row1_col0\" class=\"data row1 col0\" >0.410543</td>\n",
       "                        <td id=\"T_902af9e1_d67e_11eb_901b_3c7c3f5d70b1row1_col1\" class=\"data row1 col1\" >1.000000</td>\n",
       "            </tr>\n",
       "    </tbody></table>"
      ],
      "text/plain": [
       "<pandas.io.formats.style.Styler at 0x1f1422b6fa0>"
      ]
     },
     "execution_count": 243,
     "metadata": {},
     "output_type": "execute_result"
    }
   ],
   "source": [
    "df = data_NLD[['new_cases', 'stringency_index']]\n",
    "corr = df.corr()\n",
    "corr.style.background_gradient(cmap='coolwarm', vmin=-1, vmax=1)"
   ]
  },
  {
   "cell_type": "code",
   "execution_count": 244,
   "metadata": {
    "scrolled": true
   },
   "outputs": [
    {
     "data": {
      "text/html": [
       "<style  type=\"text/css\" >\n",
       "#T_95e9413e_d67e_11eb_9398_3c7c3f5d70b1row0_col0,#T_95e9413e_d67e_11eb_9398_3c7c3f5d70b1row1_col1{\n",
       "            background-color:  #b40426;\n",
       "            color:  #f1f1f1;\n",
       "        }#T_95e9413e_d67e_11eb_9398_3c7c3f5d70b1row0_col1,#T_95e9413e_d67e_11eb_9398_3c7c3f5d70b1row1_col0{\n",
       "            background-color:  #f6a283;\n",
       "            color:  #000000;\n",
       "        }</style><table id=\"T_95e9413e_d67e_11eb_9398_3c7c3f5d70b1\" ><thead>    <tr>        <th class=\"blank level0\" ></th>        <th class=\"col_heading level0 col0\" >total_cases</th>        <th class=\"col_heading level0 col1\" >stringency_index</th>    </tr></thead><tbody>\n",
       "                <tr>\n",
       "                        <th id=\"T_95e9413e_d67e_11eb_9398_3c7c3f5d70b1level0_row0\" class=\"row_heading level0 row0\" >total_cases</th>\n",
       "                        <td id=\"T_95e9413e_d67e_11eb_9398_3c7c3f5d70b1row0_col0\" class=\"data row0 col0\" >1.000000</td>\n",
       "                        <td id=\"T_95e9413e_d67e_11eb_9398_3c7c3f5d70b1row0_col1\" class=\"data row0 col1\" >0.457943</td>\n",
       "            </tr>\n",
       "            <tr>\n",
       "                        <th id=\"T_95e9413e_d67e_11eb_9398_3c7c3f5d70b1level0_row1\" class=\"row_heading level0 row1\" >stringency_index</th>\n",
       "                        <td id=\"T_95e9413e_d67e_11eb_9398_3c7c3f5d70b1row1_col0\" class=\"data row1 col0\" >0.457943</td>\n",
       "                        <td id=\"T_95e9413e_d67e_11eb_9398_3c7c3f5d70b1row1_col1\" class=\"data row1 col1\" >1.000000</td>\n",
       "            </tr>\n",
       "    </tbody></table>"
      ],
      "text/plain": [
       "<pandas.io.formats.style.Styler at 0x1f14227d580>"
      ]
     },
     "execution_count": 244,
     "metadata": {},
     "output_type": "execute_result"
    }
   ],
   "source": [
    "df = data_NLD[['total_cases', 'stringency_index']]\n",
    "corr = df.corr()\n",
    "corr.style.background_gradient(cmap='coolwarm', vmin=-1, vmax=1)"
   ]
  },
  {
   "cell_type": "markdown",
   "metadata": {},
   "source": [
    "## New cases and total cases in correlation to stringency-index in India"
   ]
  },
  {
   "cell_type": "code",
   "execution_count": 246,
   "metadata": {},
   "outputs": [
    {
     "data": {
      "text/html": [
       "<style  type=\"text/css\" >\n",
       "#T_afc4d153_d67e_11eb_87d2_3c7c3f5d70b1row0_col0,#T_afc4d153_d67e_11eb_87d2_3c7c3f5d70b1row1_col1{\n",
       "            background-color:  #b40426;\n",
       "            color:  #f1f1f1;\n",
       "        }#T_afc4d153_d67e_11eb_87d2_3c7c3f5d70b1row0_col1,#T_afc4d153_d67e_11eb_87d2_3c7c3f5d70b1row1_col0{\n",
       "            background-color:  #efcfbf;\n",
       "            color:  #000000;\n",
       "        }</style><table id=\"T_afc4d153_d67e_11eb_87d2_3c7c3f5d70b1\" ><thead>    <tr>        <th class=\"blank level0\" ></th>        <th class=\"col_heading level0 col0\" >new_cases</th>        <th class=\"col_heading level0 col1\" >stringency_index</th>    </tr></thead><tbody>\n",
       "                <tr>\n",
       "                        <th id=\"T_afc4d153_d67e_11eb_87d2_3c7c3f5d70b1level0_row0\" class=\"row_heading level0 row0\" >new_cases</th>\n",
       "                        <td id=\"T_afc4d153_d67e_11eb_87d2_3c7c3f5d70b1row0_col0\" class=\"data row0 col0\" >1.000000</td>\n",
       "                        <td id=\"T_afc4d153_d67e_11eb_87d2_3c7c3f5d70b1row0_col1\" class=\"data row0 col1\" >0.159435</td>\n",
       "            </tr>\n",
       "            <tr>\n",
       "                        <th id=\"T_afc4d153_d67e_11eb_87d2_3c7c3f5d70b1level0_row1\" class=\"row_heading level0 row1\" >stringency_index</th>\n",
       "                        <td id=\"T_afc4d153_d67e_11eb_87d2_3c7c3f5d70b1row1_col0\" class=\"data row1 col0\" >0.159435</td>\n",
       "                        <td id=\"T_afc4d153_d67e_11eb_87d2_3c7c3f5d70b1row1_col1\" class=\"data row1 col1\" >1.000000</td>\n",
       "            </tr>\n",
       "    </tbody></table>"
      ],
      "text/plain": [
       "<pandas.io.formats.style.Styler at 0x1f1426bb730>"
      ]
     },
     "execution_count": 246,
     "metadata": {},
     "output_type": "execute_result"
    }
   ],
   "source": [
    "df = data_IND[['new_cases', 'stringency_index']]\n",
    "corr = df.corr()\n",
    "corr.style.background_gradient(cmap='coolwarm', vmin=-1, vmax=1)"
   ]
  },
  {
   "cell_type": "code",
   "execution_count": 247,
   "metadata": {},
   "outputs": [
    {
     "data": {
      "text/html": [
       "<style  type=\"text/css\" >\n",
       "#T_b5ebe6fd_d67e_11eb_8da4_3c7c3f5d70b1row0_col0,#T_b5ebe6fd_d67e_11eb_8da4_3c7c3f5d70b1row1_col1{\n",
       "            background-color:  #b40426;\n",
       "            color:  #f1f1f1;\n",
       "        }#T_b5ebe6fd_d67e_11eb_8da4_3c7c3f5d70b1row0_col1,#T_b5ebe6fd_d67e_11eb_8da4_3c7c3f5d70b1row1_col0{\n",
       "            background-color:  #e4d9d2;\n",
       "            color:  #000000;\n",
       "        }</style><table id=\"T_b5ebe6fd_d67e_11eb_8da4_3c7c3f5d70b1\" ><thead>    <tr>        <th class=\"blank level0\" ></th>        <th class=\"col_heading level0 col0\" >total_cases</th>        <th class=\"col_heading level0 col1\" >stringency_index</th>    </tr></thead><tbody>\n",
       "                <tr>\n",
       "                        <th id=\"T_b5ebe6fd_d67e_11eb_8da4_3c7c3f5d70b1level0_row0\" class=\"row_heading level0 row0\" >total_cases</th>\n",
       "                        <td id=\"T_b5ebe6fd_d67e_11eb_8da4_3c7c3f5d70b1row0_col0\" class=\"data row0 col0\" >1.000000</td>\n",
       "                        <td id=\"T_b5ebe6fd_d67e_11eb_8da4_3c7c3f5d70b1row0_col1\" class=\"data row0 col1\" >0.054831</td>\n",
       "            </tr>\n",
       "            <tr>\n",
       "                        <th id=\"T_b5ebe6fd_d67e_11eb_8da4_3c7c3f5d70b1level0_row1\" class=\"row_heading level0 row1\" >stringency_index</th>\n",
       "                        <td id=\"T_b5ebe6fd_d67e_11eb_8da4_3c7c3f5d70b1row1_col0\" class=\"data row1 col0\" >0.054831</td>\n",
       "                        <td id=\"T_b5ebe6fd_d67e_11eb_8da4_3c7c3f5d70b1row1_col1\" class=\"data row1 col1\" >1.000000</td>\n",
       "            </tr>\n",
       "    </tbody></table>"
      ],
      "text/plain": [
       "<pandas.io.formats.style.Styler at 0x1f13c230820>"
      ]
     },
     "execution_count": 247,
     "metadata": {},
     "output_type": "execute_result"
    }
   ],
   "source": [
    "df = data_IND[['total_cases', 'stringency_index']]\n",
    "corr = df.corr()\n",
    "corr.style.background_gradient(cmap='coolwarm', vmin=-1, vmax=1)"
   ]
  },
  {
   "cell_type": "markdown",
   "metadata": {},
   "source": [
    "## New cases and total cases in correlation to stringency-index in the USA"
   ]
  },
  {
   "cell_type": "code",
   "execution_count": 125,
   "metadata": {},
   "outputs": [
    {
     "data": {
      "text/html": [
       "<style  type=\"text/css\" >\n",
       "#T_a45bb32a_d675_11eb_a4dc_3c7c3f5d70b1row0_col0,#T_a45bb32a_d675_11eb_a4dc_3c7c3f5d70b1row1_col1{\n",
       "            background-color:  #b40426;\n",
       "            color:  #f1f1f1;\n",
       "        }#T_a45bb32a_d675_11eb_a4dc_3c7c3f5d70b1row0_col1,#T_a45bb32a_d675_11eb_a4dc_3c7c3f5d70b1row1_col0{\n",
       "            background-color:  #f6a586;\n",
       "            color:  #000000;\n",
       "        }</style><table id=\"T_a45bb32a_d675_11eb_a4dc_3c7c3f5d70b1\" ><thead>    <tr>        <th class=\"blank level0\" ></th>        <th class=\"col_heading level0 col0\" >new_cases</th>        <th class=\"col_heading level0 col1\" >stringency_index</th>    </tr></thead><tbody>\n",
       "                <tr>\n",
       "                        <th id=\"T_a45bb32a_d675_11eb_a4dc_3c7c3f5d70b1level0_row0\" class=\"row_heading level0 row0\" >new_cases</th>\n",
       "                        <td id=\"T_a45bb32a_d675_11eb_a4dc_3c7c3f5d70b1row0_col0\" class=\"data row0 col0\" >1.000000</td>\n",
       "                        <td id=\"T_a45bb32a_d675_11eb_a4dc_3c7c3f5d70b1row0_col1\" class=\"data row0 col1\" >0.437947</td>\n",
       "            </tr>\n",
       "            <tr>\n",
       "                        <th id=\"T_a45bb32a_d675_11eb_a4dc_3c7c3f5d70b1level0_row1\" class=\"row_heading level0 row1\" >stringency_index</th>\n",
       "                        <td id=\"T_a45bb32a_d675_11eb_a4dc_3c7c3f5d70b1row1_col0\" class=\"data row1 col0\" >0.437947</td>\n",
       "                        <td id=\"T_a45bb32a_d675_11eb_a4dc_3c7c3f5d70b1row1_col1\" class=\"data row1 col1\" >1.000000</td>\n",
       "            </tr>\n",
       "    </tbody></table>"
      ],
      "text/plain": [
       "<pandas.io.formats.style.Styler at 0x1f142827730>"
      ]
     },
     "execution_count": 125,
     "metadata": {},
     "output_type": "execute_result"
    }
   ],
   "source": [
    "df = data_USA[['new_cases', 'stringency_index']]\n",
    "corr = df.corr()\n",
    "corr.style.background_gradient(cmap='coolwarm', vmin=-1, vmax=1)"
   ]
  },
  {
   "cell_type": "code",
   "execution_count": 249,
   "metadata": {},
   "outputs": [
    {
     "data": {
      "text/html": [
       "<style  type=\"text/css\" >\n",
       "#T_dfc56e8b_d67e_11eb_b9c2_3c7c3f5d70b1row0_col0,#T_dfc56e8b_d67e_11eb_b9c2_3c7c3f5d70b1row1_col1{\n",
       "            background-color:  #b40426;\n",
       "            color:  #f1f1f1;\n",
       "        }#T_dfc56e8b_d67e_11eb_b9c2_3c7c3f5d70b1row0_col1,#T_dfc56e8b_d67e_11eb_b9c2_3c7c3f5d70b1row1_col0{\n",
       "            background-color:  #ecd3c5;\n",
       "            color:  #000000;\n",
       "        }</style><table id=\"T_dfc56e8b_d67e_11eb_b9c2_3c7c3f5d70b1\" ><thead>    <tr>        <th class=\"blank level0\" ></th>        <th class=\"col_heading level0 col0\" >total_cases</th>        <th class=\"col_heading level0 col1\" >stringency_index</th>    </tr></thead><tbody>\n",
       "                <tr>\n",
       "                        <th id=\"T_dfc56e8b_d67e_11eb_b9c2_3c7c3f5d70b1level0_row0\" class=\"row_heading level0 row0\" >total_cases</th>\n",
       "                        <td id=\"T_dfc56e8b_d67e_11eb_b9c2_3c7c3f5d70b1row0_col0\" class=\"data row0 col0\" >1.000000</td>\n",
       "                        <td id=\"T_dfc56e8b_d67e_11eb_b9c2_3c7c3f5d70b1row0_col1\" class=\"data row0 col1\" >0.132569</td>\n",
       "            </tr>\n",
       "            <tr>\n",
       "                        <th id=\"T_dfc56e8b_d67e_11eb_b9c2_3c7c3f5d70b1level0_row1\" class=\"row_heading level0 row1\" >stringency_index</th>\n",
       "                        <td id=\"T_dfc56e8b_d67e_11eb_b9c2_3c7c3f5d70b1row1_col0\" class=\"data row1 col0\" >0.132569</td>\n",
       "                        <td id=\"T_dfc56e8b_d67e_11eb_b9c2_3c7c3f5d70b1row1_col1\" class=\"data row1 col1\" >1.000000</td>\n",
       "            </tr>\n",
       "    </tbody></table>"
      ],
      "text/plain": [
       "<pandas.io.formats.style.Styler at 0x1f1427de310>"
      ]
     },
     "execution_count": 249,
     "metadata": {},
     "output_type": "execute_result"
    }
   ],
   "source": [
    "df = data_USA[['total_cases', 'stringency_index']]\n",
    "corr = df.corr()\n",
    "corr.style.background_gradient(cmap='coolwarm', vmin=-1, vmax=1)"
   ]
  },
  {
   "cell_type": "markdown",
   "metadata": {},
   "source": [
    "## New cases and total cases in correlation to stringency-index in Brazil"
   ]
  },
  {
   "cell_type": "code",
   "execution_count": 126,
   "metadata": {},
   "outputs": [
    {
     "data": {
      "text/html": [
       "<style  type=\"text/css\" >\n",
       "#T_a81580c2_d675_11eb_9f77_3c7c3f5d70b1row0_col0,#T_a81580c2_d675_11eb_9f77_3c7c3f5d70b1row1_col1{\n",
       "            background-color:  #b40426;\n",
       "            color:  #f1f1f1;\n",
       "        }#T_a81580c2_d675_11eb_9f77_3c7c3f5d70b1row0_col1,#T_a81580c2_d675_11eb_9f77_3c7c3f5d70b1row1_col0{\n",
       "            background-color:  #ead5c9;\n",
       "            color:  #000000;\n",
       "        }</style><table id=\"T_a81580c2_d675_11eb_9f77_3c7c3f5d70b1\" ><thead>    <tr>        <th class=\"blank level0\" ></th>        <th class=\"col_heading level0 col0\" >new_cases</th>        <th class=\"col_heading level0 col1\" >stringency_index</th>    </tr></thead><tbody>\n",
       "                <tr>\n",
       "                        <th id=\"T_a81580c2_d675_11eb_9f77_3c7c3f5d70b1level0_row0\" class=\"row_heading level0 row0\" >new_cases</th>\n",
       "                        <td id=\"T_a81580c2_d675_11eb_9f77_3c7c3f5d70b1row0_col0\" class=\"data row0 col0\" >1.000000</td>\n",
       "                        <td id=\"T_a81580c2_d675_11eb_9f77_3c7c3f5d70b1row0_col1\" class=\"data row0 col1\" >0.106676</td>\n",
       "            </tr>\n",
       "            <tr>\n",
       "                        <th id=\"T_a81580c2_d675_11eb_9f77_3c7c3f5d70b1level0_row1\" class=\"row_heading level0 row1\" >stringency_index</th>\n",
       "                        <td id=\"T_a81580c2_d675_11eb_9f77_3c7c3f5d70b1row1_col0\" class=\"data row1 col0\" >0.106676</td>\n",
       "                        <td id=\"T_a81580c2_d675_11eb_9f77_3c7c3f5d70b1row1_col1\" class=\"data row1 col1\" >1.000000</td>\n",
       "            </tr>\n",
       "    </tbody></table>"
      ],
      "text/plain": [
       "<pandas.io.formats.style.Styler at 0x1f13ed8fb20>"
      ]
     },
     "execution_count": 126,
     "metadata": {},
     "output_type": "execute_result"
    }
   ],
   "source": [
    "df = data_BRA[['new_cases', 'stringency_index']]\n",
    "corr = df.corr()\n",
    "corr.style.background_gradient(cmap='coolwarm', vmin=-1, vmax=1)"
   ]
  },
  {
   "cell_type": "code",
   "execution_count": 251,
   "metadata": {
    "scrolled": true
   },
   "outputs": [
    {
     "data": {
      "text/html": [
       "<style  type=\"text/css\" >\n",
       "#T_f49117a8_d67e_11eb_aaf3_3c7c3f5d70b1row0_col0,#T_f49117a8_d67e_11eb_aaf3_3c7c3f5d70b1row1_col1{\n",
       "            background-color:  #b40426;\n",
       "            color:  #f1f1f1;\n",
       "        }#T_f49117a8_d67e_11eb_aaf3_3c7c3f5d70b1row0_col1,#T_f49117a8_d67e_11eb_aaf3_3c7c3f5d70b1row1_col0{\n",
       "            background-color:  #ccd9ed;\n",
       "            color:  #000000;\n",
       "        }</style><table id=\"T_f49117a8_d67e_11eb_aaf3_3c7c3f5d70b1\" ><thead>    <tr>        <th class=\"blank level0\" ></th>        <th class=\"col_heading level0 col0\" >total_cases</th>        <th class=\"col_heading level0 col1\" >stringency_index</th>    </tr></thead><tbody>\n",
       "                <tr>\n",
       "                        <th id=\"T_f49117a8_d67e_11eb_aaf3_3c7c3f5d70b1level0_row0\" class=\"row_heading level0 row0\" >total_cases</th>\n",
       "                        <td id=\"T_f49117a8_d67e_11eb_aaf3_3c7c3f5d70b1row0_col0\" class=\"data row0 col0\" >1.000000</td>\n",
       "                        <td id=\"T_f49117a8_d67e_11eb_aaf3_3c7c3f5d70b1row0_col1\" class=\"data row0 col1\" >-0.118439</td>\n",
       "            </tr>\n",
       "            <tr>\n",
       "                        <th id=\"T_f49117a8_d67e_11eb_aaf3_3c7c3f5d70b1level0_row1\" class=\"row_heading level0 row1\" >stringency_index</th>\n",
       "                        <td id=\"T_f49117a8_d67e_11eb_aaf3_3c7c3f5d70b1row1_col0\" class=\"data row1 col0\" >-0.118439</td>\n",
       "                        <td id=\"T_f49117a8_d67e_11eb_aaf3_3c7c3f5d70b1row1_col1\" class=\"data row1 col1\" >1.000000</td>\n",
       "            </tr>\n",
       "    </tbody></table>"
      ],
      "text/plain": [
       "<pandas.io.formats.style.Styler at 0x1f13c305370>"
      ]
     },
     "execution_count": 251,
     "metadata": {},
     "output_type": "execute_result"
    }
   ],
   "source": [
    "df = data_BRA[['total_cases', 'stringency_index']]\n",
    "corr = df.corr()\n",
    "corr.style.background_gradient(cmap='coolwarm', vmin=-1, vmax=1)"
   ]
  },
  {
   "cell_type": "markdown",
   "metadata": {},
   "source": [
    "## New cases and total cases in correlation to stringency-index in Niger"
   ]
  },
  {
   "cell_type": "code",
   "execution_count": 127,
   "metadata": {},
   "outputs": [
    {
     "data": {
      "text/html": [
       "<style  type=\"text/css\" >\n",
       "#T_ab06fff8_d675_11eb_9745_3c7c3f5d70b1row0_col0,#T_ab06fff8_d675_11eb_9745_3c7c3f5d70b1row1_col1{\n",
       "            background-color:  #b40426;\n",
       "            color:  #f1f1f1;\n",
       "        }#T_ab06fff8_d675_11eb_9745_3c7c3f5d70b1row0_col1,#T_ab06fff8_d675_11eb_9745_3c7c3f5d70b1row1_col0{\n",
       "            background-color:  #f1cdba;\n",
       "            color:  #000000;\n",
       "        }</style><table id=\"T_ab06fff8_d675_11eb_9745_3c7c3f5d70b1\" ><thead>    <tr>        <th class=\"blank level0\" ></th>        <th class=\"col_heading level0 col0\" >new_cases</th>        <th class=\"col_heading level0 col1\" >stringency_index</th>    </tr></thead><tbody>\n",
       "                <tr>\n",
       "                        <th id=\"T_ab06fff8_d675_11eb_9745_3c7c3f5d70b1level0_row0\" class=\"row_heading level0 row0\" >new_cases</th>\n",
       "                        <td id=\"T_ab06fff8_d675_11eb_9745_3c7c3f5d70b1row0_col0\" class=\"data row0 col0\" >1.000000</td>\n",
       "                        <td id=\"T_ab06fff8_d675_11eb_9745_3c7c3f5d70b1row0_col1\" class=\"data row0 col1\" >0.185808</td>\n",
       "            </tr>\n",
       "            <tr>\n",
       "                        <th id=\"T_ab06fff8_d675_11eb_9745_3c7c3f5d70b1level0_row1\" class=\"row_heading level0 row1\" >stringency_index</th>\n",
       "                        <td id=\"T_ab06fff8_d675_11eb_9745_3c7c3f5d70b1row1_col0\" class=\"data row1 col0\" >0.185808</td>\n",
       "                        <td id=\"T_ab06fff8_d675_11eb_9745_3c7c3f5d70b1row1_col1\" class=\"data row1 col1\" >1.000000</td>\n",
       "            </tr>\n",
       "    </tbody></table>"
      ],
      "text/plain": [
       "<pandas.io.formats.style.Styler at 0x1f14287e7c0>"
      ]
     },
     "execution_count": 127,
     "metadata": {},
     "output_type": "execute_result"
    }
   ],
   "source": [
    "df = data_NER[['new_cases', 'stringency_index']]\n",
    "corr = df.corr()\n",
    "corr.style.background_gradient(cmap='coolwarm', vmin=-1, vmax=1)"
   ]
  },
  {
   "cell_type": "code",
   "execution_count": 253,
   "metadata": {},
   "outputs": [
    {
     "data": {
      "text/html": [
       "<style  type=\"text/css\" >\n",
       "#T_070b918d_d67f_11eb_a98a_3c7c3f5d70b1row0_col0,#T_070b918d_d67f_11eb_a98a_3c7c3f5d70b1row1_col1{\n",
       "            background-color:  #b40426;\n",
       "            color:  #f1f1f1;\n",
       "        }#T_070b918d_d67f_11eb_a98a_3c7c3f5d70b1row0_col1,#T_070b918d_d67f_11eb_a98a_3c7c3f5d70b1row1_col0{\n",
       "            background-color:  #d1dae9;\n",
       "            color:  #000000;\n",
       "        }</style><table id=\"T_070b918d_d67f_11eb_a98a_3c7c3f5d70b1\" ><thead>    <tr>        <th class=\"blank level0\" ></th>        <th class=\"col_heading level0 col0\" >total_cases</th>        <th class=\"col_heading level0 col1\" >stringency_index</th>    </tr></thead><tbody>\n",
       "                <tr>\n",
       "                        <th id=\"T_070b918d_d67f_11eb_a98a_3c7c3f5d70b1level0_row0\" class=\"row_heading level0 row0\" >total_cases</th>\n",
       "                        <td id=\"T_070b918d_d67f_11eb_a98a_3c7c3f5d70b1row0_col0\" class=\"data row0 col0\" >1.000000</td>\n",
       "                        <td id=\"T_070b918d_d67f_11eb_a98a_3c7c3f5d70b1row0_col1\" class=\"data row0 col1\" >-0.092310</td>\n",
       "            </tr>\n",
       "            <tr>\n",
       "                        <th id=\"T_070b918d_d67f_11eb_a98a_3c7c3f5d70b1level0_row1\" class=\"row_heading level0 row1\" >stringency_index</th>\n",
       "                        <td id=\"T_070b918d_d67f_11eb_a98a_3c7c3f5d70b1row1_col0\" class=\"data row1 col0\" >-0.092310</td>\n",
       "                        <td id=\"T_070b918d_d67f_11eb_a98a_3c7c3f5d70b1row1_col1\" class=\"data row1 col1\" >1.000000</td>\n",
       "            </tr>\n",
       "    </tbody></table>"
      ],
      "text/plain": [
       "<pandas.io.formats.style.Styler at 0x1f13c3b5310>"
      ]
     },
     "execution_count": 253,
     "metadata": {},
     "output_type": "execute_result"
    }
   ],
   "source": [
    "df = data_NER[['total_cases', 'stringency_index']]\n",
    "corr = df.corr()\n",
    "corr.style.background_gradient(cmap='coolwarm', vmin=-1, vmax=1)"
   ]
  },
  {
   "cell_type": "markdown",
   "metadata": {},
   "source": [
    "## New deaths and total deaths in correlation to stringency-index in the Netherlands"
   ]
  },
  {
   "cell_type": "code",
   "execution_count": 128,
   "metadata": {},
   "outputs": [
    {
     "data": {
      "text/html": [
       "<style  type=\"text/css\" >\n",
       "#T_ae210669_d675_11eb_9eb5_3c7c3f5d70b1row0_col0,#T_ae210669_d675_11eb_9eb5_3c7c3f5d70b1row1_col1{\n",
       "            background-color:  #b40426;\n",
       "            color:  #f1f1f1;\n",
       "        }#T_ae210669_d675_11eb_9eb5_3c7c3f5d70b1row0_col1,#T_ae210669_d675_11eb_9eb5_3c7c3f5d70b1row1_col0{\n",
       "            background-color:  #f08b6e;\n",
       "            color:  #000000;\n",
       "        }</style><table id=\"T_ae210669_d675_11eb_9eb5_3c7c3f5d70b1\" ><thead>    <tr>        <th class=\"blank level0\" ></th>        <th class=\"col_heading level0 col0\" >new_deaths</th>        <th class=\"col_heading level0 col1\" >stringency_index</th>    </tr></thead><tbody>\n",
       "                <tr>\n",
       "                        <th id=\"T_ae210669_d675_11eb_9eb5_3c7c3f5d70b1level0_row0\" class=\"row_heading level0 row0\" >new_deaths</th>\n",
       "                        <td id=\"T_ae210669_d675_11eb_9eb5_3c7c3f5d70b1row0_col0\" class=\"data row0 col0\" >1.000000</td>\n",
       "                        <td id=\"T_ae210669_d675_11eb_9eb5_3c7c3f5d70b1row0_col1\" class=\"data row0 col1\" >0.565288</td>\n",
       "            </tr>\n",
       "            <tr>\n",
       "                        <th id=\"T_ae210669_d675_11eb_9eb5_3c7c3f5d70b1level0_row1\" class=\"row_heading level0 row1\" >stringency_index</th>\n",
       "                        <td id=\"T_ae210669_d675_11eb_9eb5_3c7c3f5d70b1row1_col0\" class=\"data row1 col0\" >0.565288</td>\n",
       "                        <td id=\"T_ae210669_d675_11eb_9eb5_3c7c3f5d70b1row1_col1\" class=\"data row1 col1\" >1.000000</td>\n",
       "            </tr>\n",
       "    </tbody></table>"
      ],
      "text/plain": [
       "<pandas.io.formats.style.Styler at 0x1f142827e80>"
      ]
     },
     "execution_count": 128,
     "metadata": {},
     "output_type": "execute_result"
    }
   ],
   "source": [
    "df = data_NLD[['new_deaths', 'stringency_index']]\n",
    "corr = df.corr()\n",
    "corr.style.background_gradient(cmap='coolwarm', vmin=-1, vmax=1)"
   ]
  },
  {
   "cell_type": "code",
   "execution_count": 255,
   "metadata": {
    "scrolled": true
   },
   "outputs": [
    {
     "data": {
      "text/html": [
       "<style  type=\"text/css\" >\n",
       "#T_35fefafd_d67f_11eb_b2d1_3c7c3f5d70b1row0_col0,#T_35fefafd_d67f_11eb_b2d1_3c7c3f5d70b1row1_col1{\n",
       "            background-color:  #b40426;\n",
       "            color:  #f1f1f1;\n",
       "        }#T_35fefafd_d67f_11eb_b2d1_3c7c3f5d70b1row0_col1,#T_35fefafd_d67f_11eb_b2d1_3c7c3f5d70b1row1_col0{\n",
       "            background-color:  #f7a889;\n",
       "            color:  #000000;\n",
       "        }</style><table id=\"T_35fefafd_d67f_11eb_b2d1_3c7c3f5d70b1\" ><thead>    <tr>        <th class=\"blank level0\" ></th>        <th class=\"col_heading level0 col0\" >total_deaths</th>        <th class=\"col_heading level0 col1\" >stringency_index</th>    </tr></thead><tbody>\n",
       "                <tr>\n",
       "                        <th id=\"T_35fefafd_d67f_11eb_b2d1_3c7c3f5d70b1level0_row0\" class=\"row_heading level0 row0\" >total_deaths</th>\n",
       "                        <td id=\"T_35fefafd_d67f_11eb_b2d1_3c7c3f5d70b1row0_col0\" class=\"data row0 col0\" >1.000000</td>\n",
       "                        <td id=\"T_35fefafd_d67f_11eb_b2d1_3c7c3f5d70b1row0_col1\" class=\"data row0 col1\" >0.428466</td>\n",
       "            </tr>\n",
       "            <tr>\n",
       "                        <th id=\"T_35fefafd_d67f_11eb_b2d1_3c7c3f5d70b1level0_row1\" class=\"row_heading level0 row1\" >stringency_index</th>\n",
       "                        <td id=\"T_35fefafd_d67f_11eb_b2d1_3c7c3f5d70b1row1_col0\" class=\"data row1 col0\" >0.428466</td>\n",
       "                        <td id=\"T_35fefafd_d67f_11eb_b2d1_3c7c3f5d70b1row1_col1\" class=\"data row1 col1\" >1.000000</td>\n",
       "            </tr>\n",
       "    </tbody></table>"
      ],
      "text/plain": [
       "<pandas.io.formats.style.Styler at 0x1f13c1a2550>"
      ]
     },
     "execution_count": 255,
     "metadata": {},
     "output_type": "execute_result"
    }
   ],
   "source": [
    "df = data_NLD[['total_deaths', 'stringency_index']]\n",
    "corr = df.corr()\n",
    "corr.style.background_gradient(cmap='coolwarm', vmin=-1, vmax=1)"
   ]
  },
  {
   "cell_type": "markdown",
   "metadata": {},
   "source": [
    "## New deaths and total deaths in correlation to stringency-index in India"
   ]
  },
  {
   "cell_type": "code",
   "execution_count": 129,
   "metadata": {},
   "outputs": [
    {
     "data": {
      "text/html": [
       "<style  type=\"text/css\" >\n",
       "#T_b0a40fb0_d675_11eb_af5c_3c7c3f5d70b1row0_col0,#T_b0a40fb0_d675_11eb_af5c_3c7c3f5d70b1row1_col1{\n",
       "            background-color:  #b40426;\n",
       "            color:  #f1f1f1;\n",
       "        }#T_b0a40fb0_d675_11eb_af5c_3c7c3f5d70b1row0_col1,#T_b0a40fb0_d675_11eb_af5c_3c7c3f5d70b1row1_col0{\n",
       "            background-color:  #ebd3c6;\n",
       "            color:  #000000;\n",
       "        }</style><table id=\"T_b0a40fb0_d675_11eb_af5c_3c7c3f5d70b1\" ><thead>    <tr>        <th class=\"blank level0\" ></th>        <th class=\"col_heading level0 col0\" >new_deaths</th>        <th class=\"col_heading level0 col1\" >stringency_index</th>    </tr></thead><tbody>\n",
       "                <tr>\n",
       "                        <th id=\"T_b0a40fb0_d675_11eb_af5c_3c7c3f5d70b1level0_row0\" class=\"row_heading level0 row0\" >new_deaths</th>\n",
       "                        <td id=\"T_b0a40fb0_d675_11eb_af5c_3c7c3f5d70b1row0_col0\" class=\"data row0 col0\" >1.000000</td>\n",
       "                        <td id=\"T_b0a40fb0_d675_11eb_af5c_3c7c3f5d70b1row0_col1\" class=\"data row0 col1\" >0.123730</td>\n",
       "            </tr>\n",
       "            <tr>\n",
       "                        <th id=\"T_b0a40fb0_d675_11eb_af5c_3c7c3f5d70b1level0_row1\" class=\"row_heading level0 row1\" >stringency_index</th>\n",
       "                        <td id=\"T_b0a40fb0_d675_11eb_af5c_3c7c3f5d70b1row1_col0\" class=\"data row1 col0\" >0.123730</td>\n",
       "                        <td id=\"T_b0a40fb0_d675_11eb_af5c_3c7c3f5d70b1row1_col1\" class=\"data row1 col1\" >1.000000</td>\n",
       "            </tr>\n",
       "    </tbody></table>"
      ],
      "text/plain": [
       "<pandas.io.formats.style.Styler at 0x1f14285e250>"
      ]
     },
     "execution_count": 129,
     "metadata": {},
     "output_type": "execute_result"
    }
   ],
   "source": [
    "df = data_IND[['new_deaths', 'stringency_index']]\n",
    "corr = df.corr()\n",
    "corr.style.background_gradient(cmap='coolwarm', vmin=-1, vmax=1)"
   ]
  },
  {
   "cell_type": "code",
   "execution_count": 256,
   "metadata": {
    "scrolled": true
   },
   "outputs": [
    {
     "data": {
      "text/html": [
       "<style  type=\"text/css\" >\n",
       "#T_5e89eb46_d67f_11eb_a3e3_3c7c3f5d70b1row0_col0,#T_5e89eb46_d67f_11eb_a3e3_3c7c3f5d70b1row1_col1{\n",
       "            background-color:  #b40426;\n",
       "            color:  #f1f1f1;\n",
       "        }#T_5e89eb46_d67f_11eb_a3e3_3c7c3f5d70b1row0_col1,#T_5e89eb46_d67f_11eb_a3e3_3c7c3f5d70b1row1_col0{\n",
       "            background-color:  #a2c1ff;\n",
       "            color:  #000000;\n",
       "        }</style><table id=\"T_5e89eb46_d67f_11eb_a3e3_3c7c3f5d70b1\" ><thead>    <tr>        <th class=\"blank level0\" ></th>        <th class=\"col_heading level0 col0\" >total_deaths</th>        <th class=\"col_heading level0 col1\" >stringency_index</th>    </tr></thead><tbody>\n",
       "                <tr>\n",
       "                        <th id=\"T_5e89eb46_d67f_11eb_a3e3_3c7c3f5d70b1level0_row0\" class=\"row_heading level0 row0\" >total_deaths</th>\n",
       "                        <td id=\"T_5e89eb46_d67f_11eb_a3e3_3c7c3f5d70b1row0_col0\" class=\"data row0 col0\" >1.000000</td>\n",
       "                        <td id=\"T_5e89eb46_d67f_11eb_a3e3_3c7c3f5d70b1row0_col1\" class=\"data row0 col1\" >-0.382255</td>\n",
       "            </tr>\n",
       "            <tr>\n",
       "                        <th id=\"T_5e89eb46_d67f_11eb_a3e3_3c7c3f5d70b1level0_row1\" class=\"row_heading level0 row1\" >stringency_index</th>\n",
       "                        <td id=\"T_5e89eb46_d67f_11eb_a3e3_3c7c3f5d70b1row1_col0\" class=\"data row1 col0\" >-0.382255</td>\n",
       "                        <td id=\"T_5e89eb46_d67f_11eb_a3e3_3c7c3f5d70b1row1_col1\" class=\"data row1 col1\" >1.000000</td>\n",
       "            </tr>\n",
       "    </tbody></table>"
      ],
      "text/plain": [
       "<pandas.io.formats.style.Styler at 0x1f1422b2850>"
      ]
     },
     "execution_count": 256,
     "metadata": {},
     "output_type": "execute_result"
    }
   ],
   "source": [
    "df = data_IND[['total_deaths', 'stringency_index']]\n",
    "corr = df.corr()\n",
    "corr.style.background_gradient(cmap='coolwarm', vmin=-1, vmax=1)"
   ]
  },
  {
   "cell_type": "markdown",
   "metadata": {},
   "source": [
    "## New deaths and total deaths in correlation to stringency-index in the USA"
   ]
  },
  {
   "cell_type": "code",
   "execution_count": 130,
   "metadata": {},
   "outputs": [
    {
     "data": {
      "text/html": [
       "<style  type=\"text/css\" >\n",
       "#T_b25efa71_d675_11eb_abd7_3c7c3f5d70b1row0_col0,#T_b25efa71_d675_11eb_abd7_3c7c3f5d70b1row1_col1{\n",
       "            background-color:  #b40426;\n",
       "            color:  #f1f1f1;\n",
       "        }#T_b25efa71_d675_11eb_abd7_3c7c3f5d70b1row0_col1,#T_b25efa71_d675_11eb_abd7_3c7c3f5d70b1row1_col0{\n",
       "            background-color:  #f59d7e;\n",
       "            color:  #000000;\n",
       "        }</style><table id=\"T_b25efa71_d675_11eb_abd7_3c7c3f5d70b1\" ><thead>    <tr>        <th class=\"blank level0\" ></th>        <th class=\"col_heading level0 col0\" >new_deaths</th>        <th class=\"col_heading level0 col1\" >stringency_index</th>    </tr></thead><tbody>\n",
       "                <tr>\n",
       "                        <th id=\"T_b25efa71_d675_11eb_abd7_3c7c3f5d70b1level0_row0\" class=\"row_heading level0 row0\" >new_deaths</th>\n",
       "                        <td id=\"T_b25efa71_d675_11eb_abd7_3c7c3f5d70b1row0_col0\" class=\"data row0 col0\" >1.000000</td>\n",
       "                        <td id=\"T_b25efa71_d675_11eb_abd7_3c7c3f5d70b1row0_col1\" class=\"data row0 col1\" >0.481009</td>\n",
       "            </tr>\n",
       "            <tr>\n",
       "                        <th id=\"T_b25efa71_d675_11eb_abd7_3c7c3f5d70b1level0_row1\" class=\"row_heading level0 row1\" >stringency_index</th>\n",
       "                        <td id=\"T_b25efa71_d675_11eb_abd7_3c7c3f5d70b1row1_col0\" class=\"data row1 col0\" >0.481009</td>\n",
       "                        <td id=\"T_b25efa71_d675_11eb_abd7_3c7c3f5d70b1row1_col1\" class=\"data row1 col1\" >1.000000</td>\n",
       "            </tr>\n",
       "    </tbody></table>"
      ],
      "text/plain": [
       "<pandas.io.formats.style.Styler at 0x1f14285ec10>"
      ]
     },
     "execution_count": 130,
     "metadata": {},
     "output_type": "execute_result"
    }
   ],
   "source": [
    "df = data_USA[['new_deaths', 'stringency_index']]\n",
    "corr = df.corr()\n",
    "corr.style.background_gradient(cmap='coolwarm', vmin=-1, vmax=1)"
   ]
  },
  {
   "cell_type": "code",
   "execution_count": 257,
   "metadata": {
    "scrolled": true
   },
   "outputs": [
    {
     "data": {
      "text/html": [
       "<style  type=\"text/css\" >\n",
       "#T_65f42e0c_d67f_11eb_b4f8_3c7c3f5d70b1row0_col0,#T_65f42e0c_d67f_11eb_b4f8_3c7c3f5d70b1row1_col1{\n",
       "            background-color:  #b40426;\n",
       "            color:  #f1f1f1;\n",
       "        }#T_65f42e0c_d67f_11eb_b4f8_3c7c3f5d70b1row0_col1,#T_65f42e0c_d67f_11eb_b4f8_3c7c3f5d70b1row1_col0{\n",
       "            background-color:  #c1d4f4;\n",
       "            color:  #000000;\n",
       "        }</style><table id=\"T_65f42e0c_d67f_11eb_b4f8_3c7c3f5d70b1\" ><thead>    <tr>        <th class=\"blank level0\" ></th>        <th class=\"col_heading level0 col0\" >total_deaths</th>        <th class=\"col_heading level0 col1\" >stringency_index</th>    </tr></thead><tbody>\n",
       "                <tr>\n",
       "                        <th id=\"T_65f42e0c_d67f_11eb_b4f8_3c7c3f5d70b1level0_row0\" class=\"row_heading level0 row0\" >total_deaths</th>\n",
       "                        <td id=\"T_65f42e0c_d67f_11eb_b4f8_3c7c3f5d70b1row0_col0\" class=\"data row0 col0\" >1.000000</td>\n",
       "                        <td id=\"T_65f42e0c_d67f_11eb_b4f8_3c7c3f5d70b1row0_col1\" class=\"data row0 col1\" >-0.193791</td>\n",
       "            </tr>\n",
       "            <tr>\n",
       "                        <th id=\"T_65f42e0c_d67f_11eb_b4f8_3c7c3f5d70b1level0_row1\" class=\"row_heading level0 row1\" >stringency_index</th>\n",
       "                        <td id=\"T_65f42e0c_d67f_11eb_b4f8_3c7c3f5d70b1row1_col0\" class=\"data row1 col0\" >-0.193791</td>\n",
       "                        <td id=\"T_65f42e0c_d67f_11eb_b4f8_3c7c3f5d70b1row1_col1\" class=\"data row1 col1\" >1.000000</td>\n",
       "            </tr>\n",
       "    </tbody></table>"
      ],
      "text/plain": [
       "<pandas.io.formats.style.Styler at 0x1f1428fd5b0>"
      ]
     },
     "execution_count": 257,
     "metadata": {},
     "output_type": "execute_result"
    }
   ],
   "source": [
    "df = data_USA[['total_deaths', 'stringency_index']]\n",
    "corr = df.corr()\n",
    "corr.style.background_gradient(cmap='coolwarm', vmin=-1, vmax=1)"
   ]
  },
  {
   "cell_type": "markdown",
   "metadata": {},
   "source": [
    "## New deaths and total deaths in correlation to stringency-index in Brazil"
   ]
  },
  {
   "cell_type": "code",
   "execution_count": 131,
   "metadata": {},
   "outputs": [
    {
     "data": {
      "text/html": [
       "<style  type=\"text/css\" >\n",
       "#T_b40cc945_d675_11eb_ac0c_3c7c3f5d70b1row0_col0,#T_b40cc945_d675_11eb_ac0c_3c7c3f5d70b1row1_col1{\n",
       "            background-color:  #b40426;\n",
       "            color:  #f1f1f1;\n",
       "        }#T_b40cc945_d675_11eb_ac0c_3c7c3f5d70b1row0_col1,#T_b40cc945_d675_11eb_ac0c_3c7c3f5d70b1row1_col0{\n",
       "            background-color:  #cdd9ec;\n",
       "            color:  #000000;\n",
       "        }</style><table id=\"T_b40cc945_d675_11eb_ac0c_3c7c3f5d70b1\" ><thead>    <tr>        <th class=\"blank level0\" ></th>        <th class=\"col_heading level0 col0\" >new_deaths</th>        <th class=\"col_heading level0 col1\" >stringency_index</th>    </tr></thead><tbody>\n",
       "                <tr>\n",
       "                        <th id=\"T_b40cc945_d675_11eb_ac0c_3c7c3f5d70b1level0_row0\" class=\"row_heading level0 row0\" >new_deaths</th>\n",
       "                        <td id=\"T_b40cc945_d675_11eb_ac0c_3c7c3f5d70b1row0_col0\" class=\"data row0 col0\" >1.000000</td>\n",
       "                        <td id=\"T_b40cc945_d675_11eb_ac0c_3c7c3f5d70b1row0_col1\" class=\"data row0 col1\" >-0.109759</td>\n",
       "            </tr>\n",
       "            <tr>\n",
       "                        <th id=\"T_b40cc945_d675_11eb_ac0c_3c7c3f5d70b1level0_row1\" class=\"row_heading level0 row1\" >stringency_index</th>\n",
       "                        <td id=\"T_b40cc945_d675_11eb_ac0c_3c7c3f5d70b1row1_col0\" class=\"data row1 col0\" >-0.109759</td>\n",
       "                        <td id=\"T_b40cc945_d675_11eb_ac0c_3c7c3f5d70b1row1_col1\" class=\"data row1 col1\" >1.000000</td>\n",
       "            </tr>\n",
       "    </tbody></table>"
      ],
      "text/plain": [
       "<pandas.io.formats.style.Styler at 0x1f1428137f0>"
      ]
     },
     "execution_count": 131,
     "metadata": {},
     "output_type": "execute_result"
    }
   ],
   "source": [
    "df = data_BRA[['new_deaths', 'stringency_index']]\n",
    "corr = df.corr()\n",
    "corr.style.background_gradient(cmap='coolwarm', vmin=-1, vmax=1)"
   ]
  },
  {
   "cell_type": "code",
   "execution_count": 258,
   "metadata": {
    "scrolled": true
   },
   "outputs": [
    {
     "data": {
      "text/html": [
       "<style  type=\"text/css\" >\n",
       "#T_6f896b84_d67f_11eb_90e6_3c7c3f5d70b1row0_col0,#T_6f896b84_d67f_11eb_90e6_3c7c3f5d70b1row1_col1{\n",
       "            background-color:  #b40426;\n",
       "            color:  #f1f1f1;\n",
       "        }#T_6f896b84_d67f_11eb_90e6_3c7c3f5d70b1row0_col1,#T_6f896b84_d67f_11eb_90e6_3c7c3f5d70b1row1_col0{\n",
       "            background-color:  #7da0f9;\n",
       "            color:  #000000;\n",
       "        }</style><table id=\"T_6f896b84_d67f_11eb_90e6_3c7c3f5d70b1\" ><thead>    <tr>        <th class=\"blank level0\" ></th>        <th class=\"col_heading level0 col0\" >total_deaths</th>        <th class=\"col_heading level0 col1\" >stringency_index</th>    </tr></thead><tbody>\n",
       "                <tr>\n",
       "                        <th id=\"T_6f896b84_d67f_11eb_90e6_3c7c3f5d70b1level0_row0\" class=\"row_heading level0 row0\" >total_deaths</th>\n",
       "                        <td id=\"T_6f896b84_d67f_11eb_90e6_3c7c3f5d70b1row0_col0\" class=\"data row0 col0\" >1.000000</td>\n",
       "                        <td id=\"T_6f896b84_d67f_11eb_90e6_3c7c3f5d70b1row0_col1\" class=\"data row0 col1\" >-0.592783</td>\n",
       "            </tr>\n",
       "            <tr>\n",
       "                        <th id=\"T_6f896b84_d67f_11eb_90e6_3c7c3f5d70b1level0_row1\" class=\"row_heading level0 row1\" >stringency_index</th>\n",
       "                        <td id=\"T_6f896b84_d67f_11eb_90e6_3c7c3f5d70b1row1_col0\" class=\"data row1 col0\" >-0.592783</td>\n",
       "                        <td id=\"T_6f896b84_d67f_11eb_90e6_3c7c3f5d70b1row1_col1\" class=\"data row1 col1\" >1.000000</td>\n",
       "            </tr>\n",
       "    </tbody></table>"
      ],
      "text/plain": [
       "<pandas.io.formats.style.Styler at 0x1f14269b1f0>"
      ]
     },
     "execution_count": 258,
     "metadata": {},
     "output_type": "execute_result"
    }
   ],
   "source": [
    "df = data_BRA[['total_deaths', 'stringency_index']]\n",
    "corr = df.corr()\n",
    "corr.style.background_gradient(cmap='coolwarm', vmin=-1, vmax=1)"
   ]
  },
  {
   "cell_type": "markdown",
   "metadata": {},
   "source": [
    "## New deaths and total deaths in correlation to stringency-index in Niger"
   ]
  },
  {
   "cell_type": "code",
   "execution_count": 132,
   "metadata": {},
   "outputs": [
    {
     "data": {
      "text/html": [
       "<style  type=\"text/css\" >\n",
       "#T_b625a8c0_d675_11eb_902a_3c7c3f5d70b1row0_col0,#T_b625a8c0_d675_11eb_902a_3c7c3f5d70b1row1_col1{\n",
       "            background-color:  #b40426;\n",
       "            color:  #f1f1f1;\n",
       "        }#T_b625a8c0_d675_11eb_902a_3c7c3f5d70b1row0_col1,#T_b625a8c0_d675_11eb_902a_3c7c3f5d70b1row1_col0{\n",
       "            background-color:  #f6bda2;\n",
       "            color:  #000000;\n",
       "        }</style><table id=\"T_b625a8c0_d675_11eb_902a_3c7c3f5d70b1\" ><thead>    <tr>        <th class=\"blank level0\" ></th>        <th class=\"col_heading level0 col0\" >new_deaths</th>        <th class=\"col_heading level0 col1\" >stringency_index</th>    </tr></thead><tbody>\n",
       "                <tr>\n",
       "                        <th id=\"T_b625a8c0_d675_11eb_902a_3c7c3f5d70b1level0_row0\" class=\"row_heading level0 row0\" >new_deaths</th>\n",
       "                        <td id=\"T_b625a8c0_d675_11eb_902a_3c7c3f5d70b1row0_col0\" class=\"data row0 col0\" >1.000000</td>\n",
       "                        <td id=\"T_b625a8c0_d675_11eb_902a_3c7c3f5d70b1row0_col1\" class=\"data row0 col1\" >0.299162</td>\n",
       "            </tr>\n",
       "            <tr>\n",
       "                        <th id=\"T_b625a8c0_d675_11eb_902a_3c7c3f5d70b1level0_row1\" class=\"row_heading level0 row1\" >stringency_index</th>\n",
       "                        <td id=\"T_b625a8c0_d675_11eb_902a_3c7c3f5d70b1row1_col0\" class=\"data row1 col0\" >0.299162</td>\n",
       "                        <td id=\"T_b625a8c0_d675_11eb_902a_3c7c3f5d70b1row1_col1\" class=\"data row1 col1\" >1.000000</td>\n",
       "            </tr>\n",
       "    </tbody></table>"
      ],
      "text/plain": [
       "<pandas.io.formats.style.Styler at 0x1f142839c70>"
      ]
     },
     "execution_count": 132,
     "metadata": {},
     "output_type": "execute_result"
    }
   ],
   "source": [
    "df = data_NER[['new_deaths', 'stringency_index']]\n",
    "corr = df.corr()\n",
    "corr.style.background_gradient(cmap='coolwarm', vmin=-1, vmax=1)"
   ]
  },
  {
   "cell_type": "code",
   "execution_count": 259,
   "metadata": {},
   "outputs": [
    {
     "data": {
      "text/html": [
       "<style  type=\"text/css\" >\n",
       "#T_775216b1_d67f_11eb_acef_3c7c3f5d70b1row0_col0,#T_775216b1_d67f_11eb_acef_3c7c3f5d70b1row1_col1{\n",
       "            background-color:  #b40426;\n",
       "            color:  #f1f1f1;\n",
       "        }#T_775216b1_d67f_11eb_acef_3c7c3f5d70b1row0_col1,#T_775216b1_d67f_11eb_acef_3c7c3f5d70b1row1_col0{\n",
       "            background-color:  #c3d5f4;\n",
       "            color:  #000000;\n",
       "        }</style><table id=\"T_775216b1_d67f_11eb_acef_3c7c3f5d70b1\" ><thead>    <tr>        <th class=\"blank level0\" ></th>        <th class=\"col_heading level0 col0\" >total_deaths</th>        <th class=\"col_heading level0 col1\" >stringency_index</th>    </tr></thead><tbody>\n",
       "                <tr>\n",
       "                        <th id=\"T_775216b1_d67f_11eb_acef_3c7c3f5d70b1level0_row0\" class=\"row_heading level0 row0\" >total_deaths</th>\n",
       "                        <td id=\"T_775216b1_d67f_11eb_acef_3c7c3f5d70b1row0_col0\" class=\"data row0 col0\" >1.000000</td>\n",
       "                        <td id=\"T_775216b1_d67f_11eb_acef_3c7c3f5d70b1row0_col1\" class=\"data row0 col1\" >-0.187062</td>\n",
       "            </tr>\n",
       "            <tr>\n",
       "                        <th id=\"T_775216b1_d67f_11eb_acef_3c7c3f5d70b1level0_row1\" class=\"row_heading level0 row1\" >stringency_index</th>\n",
       "                        <td id=\"T_775216b1_d67f_11eb_acef_3c7c3f5d70b1row1_col0\" class=\"data row1 col0\" >-0.187062</td>\n",
       "                        <td id=\"T_775216b1_d67f_11eb_acef_3c7c3f5d70b1row1_col1\" class=\"data row1 col1\" >1.000000</td>\n",
       "            </tr>\n",
       "    </tbody></table>"
      ],
      "text/plain": [
       "<pandas.io.formats.style.Styler at 0x1f1422e1790>"
      ]
     },
     "execution_count": 259,
     "metadata": {},
     "output_type": "execute_result"
    }
   ],
   "source": [
    "df = data_NER[['total_deaths', 'stringency_index']]\n",
    "corr = df.corr()\n",
    "corr.style.background_gradient(cmap='coolwarm', vmin=-1, vmax=1)"
   ]
  },
  {
   "cell_type": "markdown",
   "metadata": {},
   "source": [
    "## New cases and total cases in correlation to hospital patients in the Netherlands"
   ]
  },
  {
   "cell_type": "code",
   "execution_count": 133,
   "metadata": {},
   "outputs": [
    {
     "data": {
      "text/html": [
       "<style  type=\"text/css\" >\n",
       "#T_b85e1399_d675_11eb_9686_3c7c3f5d70b1row0_col0,#T_b85e1399_d675_11eb_9686_3c7c3f5d70b1row1_col1{\n",
       "            background-color:  #b40426;\n",
       "            color:  #f1f1f1;\n",
       "        }#T_b85e1399_d675_11eb_9686_3c7c3f5d70b1row0_col1,#T_b85e1399_d675_11eb_9686_3c7c3f5d70b1row1_col0{\n",
       "            background-color:  #f29274;\n",
       "            color:  #000000;\n",
       "        }</style><table id=\"T_b85e1399_d675_11eb_9686_3c7c3f5d70b1\" ><thead>    <tr>        <th class=\"blank level0\" ></th>        <th class=\"col_heading level0 col0\" >new_cases</th>        <th class=\"col_heading level0 col1\" >hosp_patients</th>    </tr></thead><tbody>\n",
       "                <tr>\n",
       "                        <th id=\"T_b85e1399_d675_11eb_9686_3c7c3f5d70b1level0_row0\" class=\"row_heading level0 row0\" >new_cases</th>\n",
       "                        <td id=\"T_b85e1399_d675_11eb_9686_3c7c3f5d70b1row0_col0\" class=\"data row0 col0\" >1.000000</td>\n",
       "                        <td id=\"T_b85e1399_d675_11eb_9686_3c7c3f5d70b1row0_col1\" class=\"data row0 col1\" >0.534663</td>\n",
       "            </tr>\n",
       "            <tr>\n",
       "                        <th id=\"T_b85e1399_d675_11eb_9686_3c7c3f5d70b1level0_row1\" class=\"row_heading level0 row1\" >hosp_patients</th>\n",
       "                        <td id=\"T_b85e1399_d675_11eb_9686_3c7c3f5d70b1row1_col0\" class=\"data row1 col0\" >0.534663</td>\n",
       "                        <td id=\"T_b85e1399_d675_11eb_9686_3c7c3f5d70b1row1_col1\" class=\"data row1 col1\" >1.000000</td>\n",
       "            </tr>\n",
       "    </tbody></table>"
      ],
      "text/plain": [
       "<pandas.io.formats.style.Styler at 0x1f142839f10>"
      ]
     },
     "execution_count": 133,
     "metadata": {},
     "output_type": "execute_result"
    }
   ],
   "source": [
    "df = data_NLD[['new_cases', 'hosp_patients']]\n",
    "corr = df.corr()\n",
    "corr.style.background_gradient(cmap='coolwarm', vmin=-1, vmax=1)"
   ]
  },
  {
   "cell_type": "code",
   "execution_count": 260,
   "metadata": {
    "scrolled": true
   },
   "outputs": [
    {
     "data": {
      "text/html": [
       "<style  type=\"text/css\" >\n",
       "#T_7ef5d418_d67f_11eb_b998_3c7c3f5d70b1row0_col0,#T_7ef5d418_d67f_11eb_b998_3c7c3f5d70b1row1_col1{\n",
       "            background-color:  #b40426;\n",
       "            color:  #f1f1f1;\n",
       "        }#T_7ef5d418_d67f_11eb_b998_3c7c3f5d70b1row0_col1,#T_7ef5d418_d67f_11eb_b998_3c7c3f5d70b1row1_col0{\n",
       "            background-color:  #f7b89c;\n",
       "            color:  #000000;\n",
       "        }</style><table id=\"T_7ef5d418_d67f_11eb_b998_3c7c3f5d70b1\" ><thead>    <tr>        <th class=\"blank level0\" ></th>        <th class=\"col_heading level0 col0\" >total_cases</th>        <th class=\"col_heading level0 col1\" >hosp_patients</th>    </tr></thead><tbody>\n",
       "                <tr>\n",
       "                        <th id=\"T_7ef5d418_d67f_11eb_b998_3c7c3f5d70b1level0_row0\" class=\"row_heading level0 row0\" >total_cases</th>\n",
       "                        <td id=\"T_7ef5d418_d67f_11eb_b998_3c7c3f5d70b1row0_col0\" class=\"data row0 col0\" >1.000000</td>\n",
       "                        <td id=\"T_7ef5d418_d67f_11eb_b998_3c7c3f5d70b1row0_col1\" class=\"data row0 col1\" >0.335063</td>\n",
       "            </tr>\n",
       "            <tr>\n",
       "                        <th id=\"T_7ef5d418_d67f_11eb_b998_3c7c3f5d70b1level0_row1\" class=\"row_heading level0 row1\" >hosp_patients</th>\n",
       "                        <td id=\"T_7ef5d418_d67f_11eb_b998_3c7c3f5d70b1row1_col0\" class=\"data row1 col0\" >0.335063</td>\n",
       "                        <td id=\"T_7ef5d418_d67f_11eb_b998_3c7c3f5d70b1row1_col1\" class=\"data row1 col1\" >1.000000</td>\n",
       "            </tr>\n",
       "    </tbody></table>"
      ],
      "text/plain": [
       "<pandas.io.formats.style.Styler at 0x1f13f138b20>"
      ]
     },
     "execution_count": 260,
     "metadata": {},
     "output_type": "execute_result"
    }
   ],
   "source": [
    "df = data_NLD[['total_cases', 'hosp_patients']]\n",
    "corr = df.corr()\n",
    "corr.style.background_gradient(cmap='coolwarm', vmin=-1, vmax=1)"
   ]
  },
  {
   "cell_type": "markdown",
   "metadata": {},
   "source": [
    "## New cases and total cases in correlation to hospital patients in the USA"
   ]
  },
  {
   "cell_type": "code",
   "execution_count": 135,
   "metadata": {},
   "outputs": [
    {
     "data": {
      "text/html": [
       "<style  type=\"text/css\" >\n",
       "#T_bd8b9b8c_d675_11eb_9776_3c7c3f5d70b1row0_col0,#T_bd8b9b8c_d675_11eb_9776_3c7c3f5d70b1row1_col1{\n",
       "            background-color:  #b40426;\n",
       "            color:  #f1f1f1;\n",
       "        }#T_bd8b9b8c_d675_11eb_9776_3c7c3f5d70b1row0_col1,#T_bd8b9b8c_d675_11eb_9776_3c7c3f5d70b1row1_col0{\n",
       "            background-color:  #be242e;\n",
       "            color:  #f1f1f1;\n",
       "        }</style><table id=\"T_bd8b9b8c_d675_11eb_9776_3c7c3f5d70b1\" ><thead>    <tr>        <th class=\"blank level0\" ></th>        <th class=\"col_heading level0 col0\" >new_cases</th>        <th class=\"col_heading level0 col1\" >hosp_patients</th>    </tr></thead><tbody>\n",
       "                <tr>\n",
       "                        <th id=\"T_bd8b9b8c_d675_11eb_9776_3c7c3f5d70b1level0_row0\" class=\"row_heading level0 row0\" >new_cases</th>\n",
       "                        <td id=\"T_bd8b9b8c_d675_11eb_9776_3c7c3f5d70b1row0_col0\" class=\"data row0 col0\" >1.000000</td>\n",
       "                        <td id=\"T_bd8b9b8c_d675_11eb_9776_3c7c3f5d70b1row0_col1\" class=\"data row0 col1\" >0.938287</td>\n",
       "            </tr>\n",
       "            <tr>\n",
       "                        <th id=\"T_bd8b9b8c_d675_11eb_9776_3c7c3f5d70b1level0_row1\" class=\"row_heading level0 row1\" >hosp_patients</th>\n",
       "                        <td id=\"T_bd8b9b8c_d675_11eb_9776_3c7c3f5d70b1row1_col0\" class=\"data row1 col0\" >0.938287</td>\n",
       "                        <td id=\"T_bd8b9b8c_d675_11eb_9776_3c7c3f5d70b1row1_col1\" class=\"data row1 col1\" >1.000000</td>\n",
       "            </tr>\n",
       "    </tbody></table>"
      ],
      "text/plain": [
       "<pandas.io.formats.style.Styler at 0x1f1428134c0>"
      ]
     },
     "execution_count": 135,
     "metadata": {},
     "output_type": "execute_result"
    }
   ],
   "source": [
    "df = data_USA[['new_cases', 'hosp_patients']]\n",
    "corr = df.corr()\n",
    "corr.style.background_gradient(cmap='coolwarm', vmin=-1, vmax=1)"
   ]
  },
  {
   "cell_type": "code",
   "execution_count": 261,
   "metadata": {},
   "outputs": [
    {
     "data": {
      "text/html": [
       "<style  type=\"text/css\" >\n",
       "#T_85e295fe_d67f_11eb_bec6_3c7c3f5d70b1row0_col0,#T_85e295fe_d67f_11eb_bec6_3c7c3f5d70b1row1_col1{\n",
       "            background-color:  #b40426;\n",
       "            color:  #f1f1f1;\n",
       "        }#T_85e295fe_d67f_11eb_bec6_3c7c3f5d70b1row0_col1,#T_85e295fe_d67f_11eb_bec6_3c7c3f5d70b1row1_col0{\n",
       "            background-color:  #d8dce2;\n",
       "            color:  #000000;\n",
       "        }</style><table id=\"T_85e295fe_d67f_11eb_bec6_3c7c3f5d70b1\" ><thead>    <tr>        <th class=\"blank level0\" ></th>        <th class=\"col_heading level0 col0\" >total_cases</th>        <th class=\"col_heading level0 col1\" >hosp_patients</th>    </tr></thead><tbody>\n",
       "                <tr>\n",
       "                        <th id=\"T_85e295fe_d67f_11eb_bec6_3c7c3f5d70b1level0_row0\" class=\"row_heading level0 row0\" >total_cases</th>\n",
       "                        <td id=\"T_85e295fe_d67f_11eb_bec6_3c7c3f5d70b1row0_col0\" class=\"data row0 col0\" >1.000000</td>\n",
       "                        <td id=\"T_85e295fe_d67f_11eb_bec6_3c7c3f5d70b1row0_col1\" class=\"data row0 col1\" >-0.036164</td>\n",
       "            </tr>\n",
       "            <tr>\n",
       "                        <th id=\"T_85e295fe_d67f_11eb_bec6_3c7c3f5d70b1level0_row1\" class=\"row_heading level0 row1\" >hosp_patients</th>\n",
       "                        <td id=\"T_85e295fe_d67f_11eb_bec6_3c7c3f5d70b1row1_col0\" class=\"data row1 col0\" >-0.036164</td>\n",
       "                        <td id=\"T_85e295fe_d67f_11eb_bec6_3c7c3f5d70b1row1_col1\" class=\"data row1 col1\" >1.000000</td>\n",
       "            </tr>\n",
       "    </tbody></table>"
      ],
      "text/plain": [
       "<pandas.io.formats.style.Styler at 0x1f13f138e80>"
      ]
     },
     "execution_count": 261,
     "metadata": {},
     "output_type": "execute_result"
    }
   ],
   "source": [
    "df = data_USA[['total_cases', 'hosp_patients']]\n",
    "corr = df.corr()\n",
    "corr.style.background_gradient(cmap='coolwarm', vmin=-1, vmax=1)"
   ]
  },
  {
   "cell_type": "markdown",
   "metadata": {},
   "source": [
    "## New deaths and total deaths in correlation to hospital patients in the Netherlands"
   ]
  },
  {
   "cell_type": "code",
   "execution_count": 34,
   "metadata": {},
   "outputs": [
    {
     "data": {
      "text/html": [
       "<style  type=\"text/css\" >\n",
       "#T_2ce14bcd_d698_11eb_a50b_3c7c3f5d70b1row0_col0,#T_2ce14bcd_d698_11eb_a50b_3c7c3f5d70b1row1_col1{\n",
       "            background-color:  #b40426;\n",
       "            color:  #f1f1f1;\n",
       "        }#T_2ce14bcd_d698_11eb_a50b_3c7c3f5d70b1row0_col1,#T_2ce14bcd_d698_11eb_a50b_3c7c3f5d70b1row1_col0{\n",
       "            background-color:  #dd5f4b;\n",
       "            color:  #000000;\n",
       "        }</style><table id=\"T_2ce14bcd_d698_11eb_a50b_3c7c3f5d70b1\" ><thead>    <tr>        <th class=\"blank level0\" ></th>        <th class=\"col_heading level0 col0\" >new_deaths</th>        <th class=\"col_heading level0 col1\" >hosp_patients</th>    </tr></thead><tbody>\n",
       "                <tr>\n",
       "                        <th id=\"T_2ce14bcd_d698_11eb_a50b_3c7c3f5d70b1level0_row0\" class=\"row_heading level0 row0\" >new_deaths</th>\n",
       "                        <td id=\"T_2ce14bcd_d698_11eb_a50b_3c7c3f5d70b1row0_col0\" class=\"data row0 col0\" >1.000000</td>\n",
       "                        <td id=\"T_2ce14bcd_d698_11eb_a50b_3c7c3f5d70b1row0_col1\" class=\"data row0 col1\" >0.751637</td>\n",
       "            </tr>\n",
       "            <tr>\n",
       "                        <th id=\"T_2ce14bcd_d698_11eb_a50b_3c7c3f5d70b1level0_row1\" class=\"row_heading level0 row1\" >hosp_patients</th>\n",
       "                        <td id=\"T_2ce14bcd_d698_11eb_a50b_3c7c3f5d70b1row1_col0\" class=\"data row1 col0\" >0.751637</td>\n",
       "                        <td id=\"T_2ce14bcd_d698_11eb_a50b_3c7c3f5d70b1row1_col1\" class=\"data row1 col1\" >1.000000</td>\n",
       "            </tr>\n",
       "    </tbody></table>"
      ],
      "text/plain": [
       "<pandas.io.formats.style.Styler at 0x19061ea1280>"
      ]
     },
     "execution_count": 34,
     "metadata": {},
     "output_type": "execute_result"
    }
   ],
   "source": [
    "df = data_NLD[['new_deaths', 'hosp_patients']]\n",
    "corr = df.corr()\n",
    "corr.style.background_gradient(cmap='coolwarm', vmin=-1, vmax=1)"
   ]
  },
  {
   "cell_type": "code",
   "execution_count": 35,
   "metadata": {},
   "outputs": [
    {
     "data": {
      "text/html": [
       "<style  type=\"text/css\" >\n",
       "#T_368d1f75_d698_11eb_b3e3_3c7c3f5d70b1row0_col0,#T_368d1f75_d698_11eb_b3e3_3c7c3f5d70b1row1_col1{\n",
       "            background-color:  #b40426;\n",
       "            color:  #f1f1f1;\n",
       "        }#T_368d1f75_d698_11eb_b3e3_3c7c3f5d70b1row0_col1,#T_368d1f75_d698_11eb_b3e3_3c7c3f5d70b1row1_col0{\n",
       "            background-color:  #f2cab5;\n",
       "            color:  #000000;\n",
       "        }</style><table id=\"T_368d1f75_d698_11eb_b3e3_3c7c3f5d70b1\" ><thead>    <tr>        <th class=\"blank level0\" ></th>        <th class=\"col_heading level0 col0\" >total_deaths</th>        <th class=\"col_heading level0 col1\" >hosp_patients</th>    </tr></thead><tbody>\n",
       "                <tr>\n",
       "                        <th id=\"T_368d1f75_d698_11eb_b3e3_3c7c3f5d70b1level0_row0\" class=\"row_heading level0 row0\" >total_deaths</th>\n",
       "                        <td id=\"T_368d1f75_d698_11eb_b3e3_3c7c3f5d70b1row0_col0\" class=\"data row0 col0\" >1.000000</td>\n",
       "                        <td id=\"T_368d1f75_d698_11eb_b3e3_3c7c3f5d70b1row0_col1\" class=\"data row0 col1\" >0.206025</td>\n",
       "            </tr>\n",
       "            <tr>\n",
       "                        <th id=\"T_368d1f75_d698_11eb_b3e3_3c7c3f5d70b1level0_row1\" class=\"row_heading level0 row1\" >hosp_patients</th>\n",
       "                        <td id=\"T_368d1f75_d698_11eb_b3e3_3c7c3f5d70b1row1_col0\" class=\"data row1 col0\" >0.206025</td>\n",
       "                        <td id=\"T_368d1f75_d698_11eb_b3e3_3c7c3f5d70b1row1_col1\" class=\"data row1 col1\" >1.000000</td>\n",
       "            </tr>\n",
       "    </tbody></table>"
      ],
      "text/plain": [
       "<pandas.io.formats.style.Styler at 0x19061ea1220>"
      ]
     },
     "execution_count": 35,
     "metadata": {},
     "output_type": "execute_result"
    }
   ],
   "source": [
    "df = data_NLD[['total_deaths', 'hosp_patients']]\n",
    "corr = df.corr()\n",
    "corr.style.background_gradient(cmap='coolwarm', vmin=-1, vmax=1)"
   ]
  },
  {
   "cell_type": "markdown",
   "metadata": {},
   "source": [
    "## New deaths and total deaths in correlation to hospital patients in the USA"
   ]
  },
  {
   "cell_type": "code",
   "execution_count": 36,
   "metadata": {},
   "outputs": [
    {
     "data": {
      "text/html": [
       "<style  type=\"text/css\" >\n",
       "#T_4737f452_d698_11eb_843d_3c7c3f5d70b1row0_col0,#T_4737f452_d698_11eb_843d_3c7c3f5d70b1row1_col1{\n",
       "            background-color:  #b40426;\n",
       "            color:  #f1f1f1;\n",
       "        }#T_4737f452_d698_11eb_843d_3c7c3f5d70b1row0_col1,#T_4737f452_d698_11eb_843d_3c7c3f5d70b1row1_col0{\n",
       "            background-color:  #d44e41;\n",
       "            color:  #000000;\n",
       "        }</style><table id=\"T_4737f452_d698_11eb_843d_3c7c3f5d70b1\" ><thead>    <tr>        <th class=\"blank level0\" ></th>        <th class=\"col_heading level0 col0\" >new_deaths</th>        <th class=\"col_heading level0 col1\" >hosp_patients</th>    </tr></thead><tbody>\n",
       "                <tr>\n",
       "                        <th id=\"T_4737f452_d698_11eb_843d_3c7c3f5d70b1level0_row0\" class=\"row_heading level0 row0\" >new_deaths</th>\n",
       "                        <td id=\"T_4737f452_d698_11eb_843d_3c7c3f5d70b1row0_col0\" class=\"data row0 col0\" >1.000000</td>\n",
       "                        <td id=\"T_4737f452_d698_11eb_843d_3c7c3f5d70b1row0_col1\" class=\"data row0 col1\" >0.816470</td>\n",
       "            </tr>\n",
       "            <tr>\n",
       "                        <th id=\"T_4737f452_d698_11eb_843d_3c7c3f5d70b1level0_row1\" class=\"row_heading level0 row1\" >hosp_patients</th>\n",
       "                        <td id=\"T_4737f452_d698_11eb_843d_3c7c3f5d70b1row1_col0\" class=\"data row1 col0\" >0.816470</td>\n",
       "                        <td id=\"T_4737f452_d698_11eb_843d_3c7c3f5d70b1row1_col1\" class=\"data row1 col1\" >1.000000</td>\n",
       "            </tr>\n",
       "    </tbody></table>"
      ],
      "text/plain": [
       "<pandas.io.formats.style.Styler at 0x19061eb2d60>"
      ]
     },
     "execution_count": 36,
     "metadata": {},
     "output_type": "execute_result"
    }
   ],
   "source": [
    "df = data_USA[['new_deaths', 'hosp_patients']]\n",
    "corr = df.corr()\n",
    "corr.style.background_gradient(cmap='coolwarm', vmin=-1, vmax=1)"
   ]
  },
  {
   "cell_type": "code",
   "execution_count": 37,
   "metadata": {},
   "outputs": [
    {
     "data": {
      "text/html": [
       "<style  type=\"text/css\" >\n",
       "#T_4e90279e_d698_11eb_9149_3c7c3f5d70b1row0_col0,#T_4e90279e_d698_11eb_9149_3c7c3f5d70b1row1_col1{\n",
       "            background-color:  #b40426;\n",
       "            color:  #f1f1f1;\n",
       "        }#T_4e90279e_d698_11eb_9149_3c7c3f5d70b1row0_col1,#T_4e90279e_d698_11eb_9149_3c7c3f5d70b1row1_col0{\n",
       "            background-color:  #cad8ef;\n",
       "            color:  #000000;\n",
       "        }</style><table id=\"T_4e90279e_d698_11eb_9149_3c7c3f5d70b1\" ><thead>    <tr>        <th class=\"blank level0\" ></th>        <th class=\"col_heading level0 col0\" >total_deaths</th>        <th class=\"col_heading level0 col1\" >hosp_patients</th>    </tr></thead><tbody>\n",
       "                <tr>\n",
       "                        <th id=\"T_4e90279e_d698_11eb_9149_3c7c3f5d70b1level0_row0\" class=\"row_heading level0 row0\" >total_deaths</th>\n",
       "                        <td id=\"T_4e90279e_d698_11eb_9149_3c7c3f5d70b1row0_col0\" class=\"data row0 col0\" >1.000000</td>\n",
       "                        <td id=\"T_4e90279e_d698_11eb_9149_3c7c3f5d70b1row0_col1\" class=\"data row0 col1\" >-0.135868</td>\n",
       "            </tr>\n",
       "            <tr>\n",
       "                        <th id=\"T_4e90279e_d698_11eb_9149_3c7c3f5d70b1level0_row1\" class=\"row_heading level0 row1\" >hosp_patients</th>\n",
       "                        <td id=\"T_4e90279e_d698_11eb_9149_3c7c3f5d70b1row1_col0\" class=\"data row1 col0\" >-0.135868</td>\n",
       "                        <td id=\"T_4e90279e_d698_11eb_9149_3c7c3f5d70b1row1_col1\" class=\"data row1 col1\" >1.000000</td>\n",
       "            </tr>\n",
       "    </tbody></table>"
      ],
      "text/plain": [
       "<pandas.io.formats.style.Styler at 0x19061ea1370>"
      ]
     },
     "execution_count": 37,
     "metadata": {},
     "output_type": "execute_result"
    }
   ],
   "source": [
    "df = data_USA[['total_deaths', 'hosp_patients']]\n",
    "corr = df.corr()\n",
    "corr.style.background_gradient(cmap='coolwarm', vmin=-1, vmax=1)"
   ]
  }
 ],
 "metadata": {
  "kernelspec": {
   "display_name": "Python 3",
   "language": "python",
   "name": "python3"
  },
  "language_info": {
   "codemirror_mode": {
    "name": "ipython",
    "version": 3
   },
   "file_extension": ".py",
   "mimetype": "text/x-python",
   "name": "python",
   "nbconvert_exporter": "python",
   "pygments_lexer": "ipython3",
   "version": "3.8.5"
  }
 },
 "nbformat": 4,
 "nbformat_minor": 4
}
